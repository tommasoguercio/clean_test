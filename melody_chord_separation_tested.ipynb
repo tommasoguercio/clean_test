{
 "cells": [
  {
   "cell_type": "code",
   "execution_count": 4,
   "metadata": {},
   "outputs": [],
   "source": [
    "import pretty_midi\n",
    "import numpy as np\n",
    "import matplotlib.pyplot as plt\n",
    "import re\n",
    "import os\n",
    "import tempfile\n",
    "from pathlib import Path\n",
    "from typing import Tuple, Optional\n",
    "import pickle\n",
    "import random\n",
    "from tqdm import tqdm"
   ]
  },
  {
   "cell_type": "markdown",
   "metadata": {},
   "source": [
    "## How to start"
   ]
  },
  {
   "cell_type": "markdown",
   "metadata": {},
   "source": [
    "Install the required packages"
   ]
  },
  {
   "cell_type": "code",
   "execution_count": 2,
   "metadata": {},
   "outputs": [],
   "source": [
    "# !pip install pretty_midi"
   ]
  },
  {
   "cell_type": "markdown",
   "metadata": {},
   "source": [
    "Run this notebook preferably in an empty folder.\n",
    "\n",
    "Download the dataset from here: http://hog.ee.columbia.edu/craffel/lmd/clean_midi.tar.gz and extract it in your current folder\n",
    "\n",
    "Change the following string to match the path of your dataset folder (clean_midi):"
   ]
  },
  {
   "cell_type": "code",
   "execution_count": 3,
   "metadata": {},
   "outputs": [],
   "source": [
    "clean_midi_path = r\"C:/Users/tommy/Desktop/UNI/NN/project/clean_test/clean_midi\""
   ]
  },
  {
   "cell_type": "markdown",
   "metadata": {},
   "source": [
    "## Select all MIDI files with a 4/4 time signature in the Dataset"
   ]
  },
  {
   "cell_type": "code",
   "execution_count": 4,
   "metadata": {},
   "outputs": [],
   "source": [
    "def is_simple_meter(midi_file: str) -> bool:\n",
    "    \"\"\"\n",
    "    Check if a MIDI file is in 4/4 time signature using pretty_midi.\n",
    "    \n",
    "    Args:\n",
    "        midi_file (str): Path to the MIDI file\n",
    "        \n",
    "    Returns:\n",
    "        bool: True if the song is in 4/4, False otherwise\n",
    "    \"\"\"\n",
    "    try:\n",
    "        # Load MIDI file with pretty_midi\n",
    "        midi_data = pretty_midi.PrettyMIDI(midi_file)\n",
    "        \n",
    "        # Get time signatures\n",
    "        time_sigs = midi_data.time_signature_changes\n",
    "        \n",
    "        # If no time signature specified, return False\n",
    "        if not time_sigs:\n",
    "            return False\n",
    "            \n",
    "        # Check each time signature change\n",
    "        for ts in time_sigs:\n",
    "            # If any time signature is not 4/4, return False\n",
    "            if not (ts.numerator == 4 and ts.denominator == 4):\n",
    "                return False\n",
    "                \n",
    "        return True\n",
    "        \n",
    "    except Exception as e:\n",
    "        print(f\"Error processing MIDI file: {e}\")\n",
    "        return False"
   ]
  },
  {
   "cell_type": "code",
   "execution_count": 5,
   "metadata": {},
   "outputs": [],
   "source": [
    "def analyze_time_signatures(clean_midi_path: str, \n",
    "                          save_results: bool = True,\n",
    "                          verbose: bool = False) -> list:\n",
    "    \"\"\"\n",
    "    Analyze all MIDI files in directory for 4/4 time signature.\n",
    "    Returns list of valid file paths and saves to pickle file.\n",
    "    \"\"\"\n",
    "    \n",
    "    valid_files = []\n",
    "    \n",
    "    # Get total file count first\n",
    "    all_midi_files = []\n",
    "    for author in os.listdir(clean_midi_path):\n",
    "        author_path = os.path.join(clean_midi_path, author)\n",
    "        if not os.path.isdir(author_path):\n",
    "            continue\n",
    "        midi_files = [os.path.join(author_path, f) \n",
    "                     for f in os.listdir(author_path) \n",
    "                     if f.lower().endswith('.mid')]\n",
    "        all_midi_files.extend([(author, f) for f in midi_files])\n",
    "    \n",
    "    # Process all files with single progress bar\n",
    "    for author, full_path in tqdm(all_midi_files, desc=\"Processing MIDI files\"):\n",
    "        try:\n",
    "            if is_simple_meter(full_path):\n",
    "                valid_files.append({\n",
    "                    'path': full_path,\n",
    "                    'author': author,\n",
    "                    'song': os.path.basename(full_path)\n",
    "                })\n",
    "        except Exception as e:\n",
    "            if verbose:\n",
    "                print(f\"Error processing {full_path}: {e}\")\n",
    "            continue\n",
    "    \n",
    "    # Print statistics\n",
    "    print(f\"\\nTotal files analyzed: {len(all_midi_files)}\")\n",
    "    print(f\"Files in 4/4: {len(valid_files)} ({len(valid_files)/len(all_midi_files)*100:.1f}%)\")\n",
    "    \n",
    "    # Save results\n",
    "    if save_results:\n",
    "        with open('valid_midi_files.pickle', 'wb') as f:\n",
    "            pickle.dump(valid_files, f)\n",
    "        print(f\"Results saved to valid_midi_files.pickle\")\n",
    "    \n",
    "    return valid_files"
   ]
  },
  {
   "cell_type": "code",
   "execution_count": 6,
   "metadata": {},
   "outputs": [
    {
     "name": "stderr",
     "output_type": "stream",
     "text": [
      "Processing MIDI files:   0%|          | 1/17256 [00:00<37:37,  7.65it/s]c:\\Users\\tommy\\anaconda3\\lib\\site-packages\\pretty_midi\\pretty_midi.py:100: RuntimeWarning: Tempo, Key or Time signature change events found on non-zero tracks.  This is not a valid type 0 or type 1 MIDI file.  Tempo, Key or Time Signature may be wrong.\n",
      "  warnings.warn(\n",
      "Processing MIDI files:   0%|          | 7/17256 [00:01<1:05:34,  4.38it/s]"
     ]
    },
    {
     "name": "stdout",
     "output_type": "stream",
     "text": [
      "Error processing MIDI file: data byte must be in range 0..127\n"
     ]
    },
    {
     "name": "stderr",
     "output_type": "stream",
     "text": [
      "Processing MIDI files:   0%|          | 59/17256 [00:08<24:30, 11.69it/s] "
     ]
    },
    {
     "name": "stdout",
     "output_type": "stream",
     "text": [
      "Error processing MIDI file: data byte must be in range 0..127\n"
     ]
    },
    {
     "name": "stderr",
     "output_type": "stream",
     "text": [
      "Processing MIDI files:   0%|          | 63/17256 [00:08<33:07,  8.65it/s]"
     ]
    },
    {
     "name": "stdout",
     "output_type": "stream",
     "text": [
      "Error processing MIDI file: data byte must be in range 0..127\n"
     ]
    },
    {
     "name": "stderr",
     "output_type": "stream",
     "text": [
      "Processing MIDI files:   1%|          | 136/17256 [00:20<20:35, 13.85it/s] "
     ]
    },
    {
     "name": "stdout",
     "output_type": "stream",
     "text": [
      "Error processing MIDI file: data byte must be in range 0..127\n"
     ]
    },
    {
     "name": "stderr",
     "output_type": "stream",
     "text": [
      "Processing MIDI files:   1%|          | 149/17256 [00:21<24:24, 11.68it/s]"
     ]
    },
    {
     "name": "stdout",
     "output_type": "stream",
     "text": [
      "Error processing MIDI file: data byte must be in range 0..127\n"
     ]
    },
    {
     "name": "stderr",
     "output_type": "stream",
     "text": [
      "Processing MIDI files:   1%|          | 215/17256 [00:31<25:39, 11.07it/s]"
     ]
    },
    {
     "name": "stdout",
     "output_type": "stream",
     "text": [
      "Error processing MIDI file: data byte must be in range 0..127\n"
     ]
    },
    {
     "name": "stderr",
     "output_type": "stream",
     "text": [
      "Processing MIDI files:   2%|▏         | 261/17256 [00:37<30:18,  9.34it/s]"
     ]
    },
    {
     "name": "stdout",
     "output_type": "stream",
     "text": [
      "Error processing MIDI file: data byte must be in range 0..127\n"
     ]
    },
    {
     "name": "stderr",
     "output_type": "stream",
     "text": [
      "Processing MIDI files:   2%|▏         | 281/17256 [00:40<41:15,  6.86it/s]"
     ]
    },
    {
     "name": "stdout",
     "output_type": "stream",
     "text": [
      "Error processing MIDI file: data byte must be in range 0..127\n"
     ]
    },
    {
     "name": "stderr",
     "output_type": "stream",
     "text": [
      "Processing MIDI files:   2%|▏         | 287/17256 [00:41<36:33,  7.74it/s]"
     ]
    },
    {
     "name": "stdout",
     "output_type": "stream",
     "text": [
      "Error processing MIDI file: data byte must be in range 0..127\n"
     ]
    },
    {
     "name": "stderr",
     "output_type": "stream",
     "text": [
      "Processing MIDI files:   2%|▏         | 309/17256 [00:43<26:16, 10.75it/s]"
     ]
    },
    {
     "name": "stdout",
     "output_type": "stream",
     "text": [
      "Error processing MIDI file: data byte must be in range 0..127\n"
     ]
    },
    {
     "name": "stderr",
     "output_type": "stream",
     "text": [
      "Processing MIDI files:   2%|▏         | 410/17256 [00:55<28:45,  9.76it/s]"
     ]
    },
    {
     "name": "stdout",
     "output_type": "stream",
     "text": [
      "Error processing MIDI file: data byte must be in range 0..127\n"
     ]
    },
    {
     "name": "stderr",
     "output_type": "stream",
     "text": [
      "Processing MIDI files:   3%|▎         | 433/17256 [00:58<38:49,  7.22it/s]"
     ]
    },
    {
     "name": "stdout",
     "output_type": "stream",
     "text": [
      "Error processing MIDI file: \n"
     ]
    },
    {
     "name": "stderr",
     "output_type": "stream",
     "text": [
      "Processing MIDI files:   4%|▍         | 652/17256 [01:22<21:26, 12.91it/s]"
     ]
    },
    {
     "name": "stdout",
     "output_type": "stream",
     "text": [
      "Error processing MIDI file: \n"
     ]
    },
    {
     "name": "stderr",
     "output_type": "stream",
     "text": [
      "Processing MIDI files:   4%|▍         | 658/17256 [01:23<22:25, 12.34it/s]"
     ]
    },
    {
     "name": "stdout",
     "output_type": "stream",
     "text": [
      "Error processing MIDI file: data byte must be in range 0..127\n"
     ]
    },
    {
     "name": "stderr",
     "output_type": "stream",
     "text": [
      "Processing MIDI files:   4%|▍         | 724/17256 [01:32<31:27,  8.76it/s]  "
     ]
    },
    {
     "name": "stdout",
     "output_type": "stream",
     "text": [
      "Error processing MIDI file: data byte must be in range 0..127\n"
     ]
    },
    {
     "name": "stderr",
     "output_type": "stream",
     "text": [
      "Processing MIDI files:   5%|▍         | 783/17256 [01:37<15:17, 17.95it/s]"
     ]
    },
    {
     "name": "stdout",
     "output_type": "stream",
     "text": [
      "Error processing MIDI file: Could not decode key with 5 flats and mode 255\n"
     ]
    },
    {
     "name": "stderr",
     "output_type": "stream",
     "text": [
      "Processing MIDI files:   5%|▍         | 815/17256 [01:40<30:02,  9.12it/s]"
     ]
    },
    {
     "name": "stdout",
     "output_type": "stream",
     "text": [
      "Error processing MIDI file: data byte must be in range 0..127\n"
     ]
    },
    {
     "name": "stderr",
     "output_type": "stream",
     "text": [
      "Processing MIDI files:   5%|▍         | 827/17256 [01:41<34:14,  7.99it/s]"
     ]
    },
    {
     "name": "stdout",
     "output_type": "stream",
     "text": [
      "Error processing MIDI file: data byte must be in range 0..127\n"
     ]
    },
    {
     "name": "stderr",
     "output_type": "stream",
     "text": [
      "Processing MIDI files:   6%|▌         | 1044/17256 [02:11<32:35,  8.29it/s]"
     ]
    },
    {
     "name": "stdout",
     "output_type": "stream",
     "text": [
      "Error processing MIDI file: data byte must be in range 0..127\n"
     ]
    },
    {
     "name": "stderr",
     "output_type": "stream",
     "text": [
      "Processing MIDI files:   6%|▌         | 1076/17256 [02:15<24:46, 10.88it/s]"
     ]
    },
    {
     "name": "stdout",
     "output_type": "stream",
     "text": [
      "Error processing MIDI file: data byte must be in range 0..127\n"
     ]
    },
    {
     "name": "stderr",
     "output_type": "stream",
     "text": [
      "Processing MIDI files:   8%|▊         | 1378/17256 [02:44<17:35, 15.05it/s]  "
     ]
    },
    {
     "name": "stdout",
     "output_type": "stream",
     "text": [
      "Error processing MIDI file: data byte must be in range 0..127\n"
     ]
    },
    {
     "name": "stderr",
     "output_type": "stream",
     "text": [
      "Processing MIDI files:   8%|▊         | 1422/17256 [02:49<38:41,  6.82it/s]"
     ]
    },
    {
     "name": "stdout",
     "output_type": "stream",
     "text": [
      "Error processing MIDI file: data byte must be in range 0..127\n"
     ]
    },
    {
     "name": "stderr",
     "output_type": "stream",
     "text": [
      "Processing MIDI files:   9%|▉         | 1615/17256 [03:10<22:09, 11.77it/s]"
     ]
    },
    {
     "name": "stdout",
     "output_type": "stream",
     "text": [
      "Error processing MIDI file: Could not decode key with 1 flats and mode 255\n"
     ]
    },
    {
     "name": "stderr",
     "output_type": "stream",
     "text": [
      "Processing MIDI files:   9%|▉         | 1630/17256 [03:12<31:29,  8.27it/s]"
     ]
    },
    {
     "name": "stdout",
     "output_type": "stream",
     "text": [
      "Error processing MIDI file: MIDI file has a largest tick of 12884927490, it is likely corrupt\n"
     ]
    },
    {
     "name": "stderr",
     "output_type": "stream",
     "text": [
      "Processing MIDI files:  10%|▉         | 1674/17256 [03:17<49:19,  5.26it/s]"
     ]
    },
    {
     "name": "stdout",
     "output_type": "stream",
     "text": [
      "Error processing MIDI file: Message length 2093056 exceeds maximum length 1000000\n"
     ]
    },
    {
     "name": "stderr",
     "output_type": "stream",
     "text": [
      "Processing MIDI files:  10%|▉         | 1690/17256 [03:19<29:43,  8.73it/s]"
     ]
    },
    {
     "name": "stdout",
     "output_type": "stream",
     "text": [
      "Error processing MIDI file: data byte must be in range 0..127\n"
     ]
    },
    {
     "name": "stderr",
     "output_type": "stream",
     "text": [
      "Processing MIDI files:  10%|█         | 1761/17256 [03:25<21:36, 11.95it/s]"
     ]
    },
    {
     "name": "stdout",
     "output_type": "stream",
     "text": [
      "Error processing MIDI file: data byte must be in range 0..127\n"
     ]
    },
    {
     "name": "stderr",
     "output_type": "stream",
     "text": [
      "Processing MIDI files:  11%|█         | 1922/17256 [03:43<17:46, 14.37it/s]"
     ]
    },
    {
     "name": "stdout",
     "output_type": "stream",
     "text": [
      "Error processing MIDI file: data byte must be in range 0..127\n"
     ]
    },
    {
     "name": "stderr",
     "output_type": "stream",
     "text": [
      "Processing MIDI files:  11%|█▏        | 1948/17256 [03:45<21:38, 11.79it/s]"
     ]
    },
    {
     "name": "stdout",
     "output_type": "stream",
     "text": [
      "Error processing MIDI file: data byte must be in range 0..127\n",
      "Error processing MIDI file: data byte must be in range 0..127\n"
     ]
    },
    {
     "name": "stderr",
     "output_type": "stream",
     "text": [
      "Processing MIDI files:  12%|█▏        | 2013/17256 [03:52<25:18, 10.04it/s]"
     ]
    },
    {
     "name": "stdout",
     "output_type": "stream",
     "text": [
      "Error processing MIDI file: data byte must be in range 0..127\n"
     ]
    },
    {
     "name": "stderr",
     "output_type": "stream",
     "text": [
      "Processing MIDI files:  12%|█▏        | 2118/17256 [04:02<26:52,  9.39it/s]"
     ]
    },
    {
     "name": "stdout",
     "output_type": "stream",
     "text": [
      "Error processing MIDI file: MIDI file has a largest tick of 4312862115, it is likely corrupt\n"
     ]
    },
    {
     "name": "stderr",
     "output_type": "stream",
     "text": [
      "Processing MIDI files:  13%|█▎        | 2273/17256 [04:22<34:49,  7.17it/s]"
     ]
    },
    {
     "name": "stdout",
     "output_type": "stream",
     "text": [
      "Error processing MIDI file: \n"
     ]
    },
    {
     "name": "stderr",
     "output_type": "stream",
     "text": [
      "Processing MIDI files:  14%|█▍        | 2431/17256 [04:42<22:49, 10.82it/s]"
     ]
    },
    {
     "name": "stdout",
     "output_type": "stream",
     "text": [
      "Error processing MIDI file: data byte must be in range 0..127\n"
     ]
    },
    {
     "name": "stderr",
     "output_type": "stream",
     "text": [
      "Processing MIDI files:  15%|█▌        | 2630/17256 [04:56<19:09, 12.73it/s]"
     ]
    },
    {
     "name": "stdout",
     "output_type": "stream",
     "text": [
      "Error processing MIDI file: \n"
     ]
    },
    {
     "name": "stderr",
     "output_type": "stream",
     "text": [
      "Processing MIDI files:  17%|█▋        | 2850/17256 [05:19<19:16, 12.46it/s]"
     ]
    },
    {
     "name": "stdout",
     "output_type": "stream",
     "text": [
      "Error processing MIDI file: MIDI file has a largest tick of 33639950, it is likely corrupt\n"
     ]
    },
    {
     "name": "stderr",
     "output_type": "stream",
     "text": [
      "Processing MIDI files:  17%|█▋        | 2881/17256 [05:23<17:17, 13.86it/s]"
     ]
    },
    {
     "name": "stdout",
     "output_type": "stream",
     "text": [
      "Error processing MIDI file: MThd not found. Probably not a MIDI file\n"
     ]
    },
    {
     "name": "stderr",
     "output_type": "stream",
     "text": [
      "Processing MIDI files:  17%|█▋        | 2966/17256 [05:34<27:24,  8.69it/s]"
     ]
    },
    {
     "name": "stdout",
     "output_type": "stream",
     "text": [
      "Error processing MIDI file: data byte must be in range 0..127\n"
     ]
    },
    {
     "name": "stderr",
     "output_type": "stream",
     "text": [
      "Processing MIDI files:  17%|█▋        | 2972/17256 [05:35<32:37,  7.30it/s]"
     ]
    },
    {
     "name": "stdout",
     "output_type": "stream",
     "text": [
      "Error processing MIDI file: \n"
     ]
    },
    {
     "name": "stderr",
     "output_type": "stream",
     "text": [
      "Processing MIDI files:  17%|█▋        | 2996/17256 [05:38<22:34, 10.53it/s]"
     ]
    },
    {
     "name": "stdout",
     "output_type": "stream",
     "text": [
      "Error processing MIDI file: Could not decode key with 1 flats and mode 255\n"
     ]
    },
    {
     "name": "stderr",
     "output_type": "stream",
     "text": [
      "Processing MIDI files:  17%|█▋        | 3006/17256 [05:39<22:05, 10.75it/s]"
     ]
    },
    {
     "name": "stdout",
     "output_type": "stream",
     "text": [
      "Error processing MIDI file: data byte must be in range 0..127\n"
     ]
    },
    {
     "name": "stderr",
     "output_type": "stream",
     "text": [
      "Processing MIDI files:  18%|█▊        | 3034/17256 [05:43<26:56,  8.80it/s]"
     ]
    },
    {
     "name": "stdout",
     "output_type": "stream",
     "text": [
      "Error processing MIDI file: Could not decode key with 4 flats and mode 255\n",
      "Error processing MIDI file: Could not decode key with 4 flats and mode 255\n"
     ]
    },
    {
     "name": "stderr",
     "output_type": "stream",
     "text": [
      "Processing MIDI files:  18%|█▊        | 3063/17256 [05:46<26:48,  8.83it/s]"
     ]
    },
    {
     "name": "stdout",
     "output_type": "stream",
     "text": [
      "Error processing MIDI file: data byte must be in range 0..127\n"
     ]
    },
    {
     "name": "stderr",
     "output_type": "stream",
     "text": [
      "Processing MIDI files:  18%|█▊        | 3065/17256 [05:46<33:28,  7.06it/s]"
     ]
    },
    {
     "name": "stdout",
     "output_type": "stream",
     "text": [
      "Error processing MIDI file: data byte must be in range 0..127\n"
     ]
    },
    {
     "name": "stderr",
     "output_type": "stream",
     "text": [
      "Processing MIDI files:  20%|█▉        | 3401/17256 [06:28<25:33,  9.04it/s]  "
     ]
    },
    {
     "name": "stdout",
     "output_type": "stream",
     "text": [
      "Error processing MIDI file: data byte must be in range 0..127\n"
     ]
    },
    {
     "name": "stderr",
     "output_type": "stream",
     "text": [
      "Processing MIDI files:  20%|█▉        | 3429/17256 [06:32<18:53, 12.20it/s]  "
     ]
    },
    {
     "name": "stdout",
     "output_type": "stream",
     "text": [
      "Error processing MIDI file: Could not decode key with 2 flats and mode 255\n",
      "Error processing MIDI file: Could not decode key with 2 flats and mode 255\n"
     ]
    },
    {
     "name": "stderr",
     "output_type": "stream",
     "text": [
      "Processing MIDI files:  20%|██        | 3513/17256 [06:43<30:42,  7.46it/s]"
     ]
    },
    {
     "name": "stdout",
     "output_type": "stream",
     "text": [
      "Error processing MIDI file: data byte must be in range 0..127\n"
     ]
    },
    {
     "name": "stderr",
     "output_type": "stream",
     "text": [
      "Processing MIDI files:  20%|██        | 3519/17256 [06:44<38:50,  5.89it/s]"
     ]
    },
    {
     "name": "stdout",
     "output_type": "stream",
     "text": [
      "Error processing MIDI file: data byte must be in range 0..127\n"
     ]
    },
    {
     "name": "stderr",
     "output_type": "stream",
     "text": [
      "Processing MIDI files:  22%|██▏       | 3781/17256 [07:10<13:04, 17.17it/s]  "
     ]
    },
    {
     "name": "stdout",
     "output_type": "stream",
     "text": [
      "Error processing MIDI file: data byte must be in range 0..127\n"
     ]
    },
    {
     "name": "stderr",
     "output_type": "stream",
     "text": [
      "Processing MIDI files:  22%|██▏       | 3814/17256 [07:13<18:06, 12.38it/s]"
     ]
    },
    {
     "name": "stdout",
     "output_type": "stream",
     "text": [
      "Error processing MIDI file: data byte must be in range 0..127\n"
     ]
    },
    {
     "name": "stderr",
     "output_type": "stream",
     "text": [
      "Processing MIDI files:  23%|██▎       | 3942/17256 [07:27<19:00, 11.67it/s]"
     ]
    },
    {
     "name": "stdout",
     "output_type": "stream",
     "text": [
      "Error processing MIDI file: data byte must be in range 0..127\n"
     ]
    },
    {
     "name": "stderr",
     "output_type": "stream",
     "text": [
      "Processing MIDI files:  23%|██▎       | 3958/17256 [07:28<20:41, 10.71it/s]"
     ]
    },
    {
     "name": "stdout",
     "output_type": "stream",
     "text": [
      "Error processing MIDI file: data byte must be in range 0..127\n"
     ]
    },
    {
     "name": "stderr",
     "output_type": "stream",
     "text": [
      "Processing MIDI files:  23%|██▎       | 3997/17256 [07:32<17:00, 12.99it/s]"
     ]
    },
    {
     "name": "stdout",
     "output_type": "stream",
     "text": [
      "Error processing MIDI file: data byte must be in range 0..127\n"
     ]
    },
    {
     "name": "stderr",
     "output_type": "stream",
     "text": [
      "Processing MIDI files:  24%|██▍       | 4116/17256 [07:49<18:37, 11.76it/s]  "
     ]
    },
    {
     "name": "stdout",
     "output_type": "stream",
     "text": [
      "Error processing MIDI file: data byte must be in range 0..127\n"
     ]
    },
    {
     "name": "stderr",
     "output_type": "stream",
     "text": [
      "Processing MIDI files:  24%|██▍       | 4175/17256 [07:57<19:53, 10.96it/s]"
     ]
    },
    {
     "name": "stdout",
     "output_type": "stream",
     "text": [
      "Error processing MIDI file: MThd not found. Probably not a MIDI file\n"
     ]
    },
    {
     "name": "stderr",
     "output_type": "stream",
     "text": [
      "Processing MIDI files:  24%|██▍       | 4184/17256 [07:58<25:57,  8.39it/s]"
     ]
    },
    {
     "name": "stdout",
     "output_type": "stream",
     "text": [
      "Error processing MIDI file: data byte must be in range 0..127\n"
     ]
    },
    {
     "name": "stderr",
     "output_type": "stream",
     "text": [
      "Processing MIDI files:  25%|██▍       | 4250/17256 [08:07<17:22, 12.48it/s]"
     ]
    },
    {
     "name": "stdout",
     "output_type": "stream",
     "text": [
      "Error processing MIDI file: Could not decode key with 4 flats and mode 255\n"
     ]
    },
    {
     "name": "stderr",
     "output_type": "stream",
     "text": [
      "Processing MIDI files:  25%|██▌       | 4322/17256 [08:15<16:34, 13.01it/s]"
     ]
    },
    {
     "name": "stdout",
     "output_type": "stream",
     "text": [
      "Error processing MIDI file: data byte must be in range 0..127\n"
     ]
    },
    {
     "name": "stderr",
     "output_type": "stream",
     "text": [
      "Processing MIDI files:  26%|██▌       | 4405/17256 [08:26<18:58, 11.29it/s]"
     ]
    },
    {
     "name": "stdout",
     "output_type": "stream",
     "text": [
      "Error processing MIDI file: data byte must be in range 0..127\n"
     ]
    },
    {
     "name": "stderr",
     "output_type": "stream",
     "text": [
      "Processing MIDI files:  26%|██▌       | 4521/17256 [08:39<21:28,  9.88it/s]"
     ]
    },
    {
     "name": "stdout",
     "output_type": "stream",
     "text": [
      "Error processing MIDI file: Could not decode key with 1 flats and mode 255\n"
     ]
    },
    {
     "name": "stderr",
     "output_type": "stream",
     "text": [
      "Processing MIDI files:  29%|██▉       | 5017/17256 [09:47<29:57,  6.81it/s]  "
     ]
    },
    {
     "name": "stdout",
     "output_type": "stream",
     "text": [
      "Error processing MIDI file: data byte must be in range 0..127\n"
     ]
    },
    {
     "name": "stderr",
     "output_type": "stream",
     "text": [
      "Processing MIDI files:  30%|██▉       | 5144/17256 [10:02<18:41, 10.80it/s]"
     ]
    },
    {
     "name": "stdout",
     "output_type": "stream",
     "text": [
      "Error processing MIDI file: data byte must be in range 0..127\n"
     ]
    },
    {
     "name": "stderr",
     "output_type": "stream",
     "text": [
      "Processing MIDI files:  30%|██▉       | 5164/17256 [10:04<25:00,  8.06it/s]"
     ]
    },
    {
     "name": "stdout",
     "output_type": "stream",
     "text": [
      "Error processing MIDI file: data byte must be in range 0..127\n"
     ]
    },
    {
     "name": "stderr",
     "output_type": "stream",
     "text": [
      "Processing MIDI files:  31%|███       | 5333/17256 [10:19<16:48, 11.82it/s]"
     ]
    },
    {
     "name": "stdout",
     "output_type": "stream",
     "text": [
      "Error processing MIDI file: data byte must be in range 0..127\n"
     ]
    },
    {
     "name": "stderr",
     "output_type": "stream",
     "text": [
      "Processing MIDI files:  31%|███       | 5342/17256 [10:20<18:41, 10.62it/s]"
     ]
    },
    {
     "name": "stdout",
     "output_type": "stream",
     "text": [
      "Error processing MIDI file: data byte must be in range 0..127\n"
     ]
    },
    {
     "name": "stderr",
     "output_type": "stream",
     "text": [
      "Processing MIDI files:  31%|███       | 5387/17256 [10:26<30:45,  6.43it/s]"
     ]
    },
    {
     "name": "stdout",
     "output_type": "stream",
     "text": [
      "Error processing MIDI file: data byte must be in range 0..127\n"
     ]
    },
    {
     "name": "stderr",
     "output_type": "stream",
     "text": [
      "Processing MIDI files:  31%|███▏      | 5412/17256 [10:28<09:38, 20.46it/s]"
     ]
    },
    {
     "name": "stdout",
     "output_type": "stream",
     "text": [
      "Error processing MIDI file: Could not decode key with 1 flats and mode 255\n"
     ]
    },
    {
     "name": "stderr",
     "output_type": "stream",
     "text": [
      "Processing MIDI files:  32%|███▏      | 5608/17256 [10:50<22:23,  8.67it/s]"
     ]
    },
    {
     "name": "stdout",
     "output_type": "stream",
     "text": [
      "Error processing MIDI file: data byte must be in range 0..127\n"
     ]
    },
    {
     "name": "stderr",
     "output_type": "stream",
     "text": [
      "Processing MIDI files:  33%|███▎      | 5711/17256 [11:03<16:50, 11.42it/s]"
     ]
    },
    {
     "name": "stdout",
     "output_type": "stream",
     "text": [
      "Error processing MIDI file: Could not decode key with 3 flats and mode 255\n"
     ]
    },
    {
     "name": "stderr",
     "output_type": "stream",
     "text": [
      "Processing MIDI files:  33%|███▎      | 5714/17256 [11:04<22:39,  8.49it/s]"
     ]
    },
    {
     "name": "stdout",
     "output_type": "stream",
     "text": [
      "Error processing MIDI file: Could not decode key with 5 flats and mode 255\n"
     ]
    },
    {
     "name": "stderr",
     "output_type": "stream",
     "text": [
      "Processing MIDI files:  35%|███▌      | 6051/17256 [11:42<17:50, 10.47it/s]"
     ]
    },
    {
     "name": "stdout",
     "output_type": "stream",
     "text": [
      "Error processing MIDI file: data byte must be in range 0..127\n"
     ]
    },
    {
     "name": "stderr",
     "output_type": "stream",
     "text": [
      "Processing MIDI files:  36%|███▌      | 6145/17256 [11:53<20:57,  8.84it/s]"
     ]
    },
    {
     "name": "stdout",
     "output_type": "stream",
     "text": [
      "Error processing MIDI file: \n"
     ]
    },
    {
     "name": "stderr",
     "output_type": "stream",
     "text": [
      "Processing MIDI files:  36%|███▌      | 6164/17256 [11:55<23:56,  7.72it/s]"
     ]
    },
    {
     "name": "stdout",
     "output_type": "stream",
     "text": [
      "Error processing MIDI file: \n"
     ]
    },
    {
     "name": "stderr",
     "output_type": "stream",
     "text": [
      "Processing MIDI files:  36%|███▌      | 6232/17256 [12:04<17:58, 10.22it/s]"
     ]
    },
    {
     "name": "stdout",
     "output_type": "stream",
     "text": [
      "Error processing MIDI file: \n"
     ]
    },
    {
     "name": "stderr",
     "output_type": "stream",
     "text": [
      "Processing MIDI files:  37%|███▋      | 6326/17256 [12:17<13:16, 13.73it/s]"
     ]
    },
    {
     "name": "stdout",
     "output_type": "stream",
     "text": [
      "Error processing MIDI file: data byte must be in range 0..127\n"
     ]
    },
    {
     "name": "stderr",
     "output_type": "stream",
     "text": [
      "Processing MIDI files:  38%|███▊      | 6513/17256 [12:41<14:59, 11.94it/s]"
     ]
    },
    {
     "name": "stdout",
     "output_type": "stream",
     "text": [
      "Error processing MIDI file: data byte must be in range 0..127\n"
     ]
    },
    {
     "name": "stderr",
     "output_type": "stream",
     "text": [
      "Processing MIDI files:  38%|███▊      | 6614/17256 [12:53<15:58, 11.10it/s]"
     ]
    },
    {
     "name": "stdout",
     "output_type": "stream",
     "text": [
      "Error processing MIDI file: data byte must be in range 0..127\n"
     ]
    },
    {
     "name": "stderr",
     "output_type": "stream",
     "text": [
      "Processing MIDI files:  40%|████      | 6973/17256 [13:32<14:22, 11.92it/s]"
     ]
    },
    {
     "name": "stdout",
     "output_type": "stream",
     "text": [
      "Error processing MIDI file: data byte must be in range 0..127\n"
     ]
    },
    {
     "name": "stderr",
     "output_type": "stream",
     "text": [
      "Processing MIDI files:  40%|████      | 6985/17256 [13:33<15:31, 11.03it/s]"
     ]
    },
    {
     "name": "stdout",
     "output_type": "stream",
     "text": [
      "Error processing MIDI file: Could not decode key with 12 sharps and mode 95\n"
     ]
    },
    {
     "name": "stderr",
     "output_type": "stream",
     "text": [
      "Processing MIDI files:  41%|████▏     | 7134/17256 [13:51<19:22,  8.70it/s]"
     ]
    },
    {
     "name": "stdout",
     "output_type": "stream",
     "text": [
      "Error processing MIDI file: data byte must be in range 0..127\n"
     ]
    },
    {
     "name": "stderr",
     "output_type": "stream",
     "text": [
      "Processing MIDI files:  42%|████▏     | 7286/17256 [14:11<19:10,  8.67it/s]"
     ]
    },
    {
     "name": "stdout",
     "output_type": "stream",
     "text": [
      "Error processing MIDI file: Could not decode key with 5 flats and mode 2\n"
     ]
    },
    {
     "name": "stderr",
     "output_type": "stream",
     "text": [
      "Processing MIDI files:  42%|████▏     | 7293/17256 [14:12<21:17,  7.80it/s]"
     ]
    },
    {
     "name": "stdout",
     "output_type": "stream",
     "text": [
      "Error processing MIDI file: Message length 2093056 exceeds maximum length 1000000\n"
     ]
    },
    {
     "name": "stderr",
     "output_type": "stream",
     "text": [
      "Processing MIDI files:  42%|████▏     | 7321/17256 [14:15<14:19, 11.56it/s]"
     ]
    },
    {
     "name": "stdout",
     "output_type": "stream",
     "text": [
      "Error processing MIDI file: \n"
     ]
    },
    {
     "name": "stderr",
     "output_type": "stream",
     "text": [
      "Processing MIDI files:  43%|████▎     | 7348/17256 [14:18<13:34, 12.16it/s]"
     ]
    },
    {
     "name": "stdout",
     "output_type": "stream",
     "text": [
      "Error processing MIDI file: data byte must be in range 0..127\n"
     ]
    },
    {
     "name": "stderr",
     "output_type": "stream",
     "text": [
      "Processing MIDI files:  43%|████▎     | 7351/17256 [14:18<13:32, 12.19it/s]"
     ]
    },
    {
     "name": "stdout",
     "output_type": "stream",
     "text": [
      "Error processing MIDI file: MThd not found. Probably not a MIDI file\n"
     ]
    },
    {
     "name": "stderr",
     "output_type": "stream",
     "text": [
      "Processing MIDI files:  43%|████▎     | 7365/17256 [14:20<23:48,  6.92it/s]"
     ]
    },
    {
     "name": "stdout",
     "output_type": "stream",
     "text": [
      "Error processing MIDI file: data byte must be in range 0..127\n"
     ]
    },
    {
     "name": "stderr",
     "output_type": "stream",
     "text": [
      "Processing MIDI files:  43%|████▎     | 7379/17256 [14:22<17:11,  9.58it/s]"
     ]
    },
    {
     "name": "stdout",
     "output_type": "stream",
     "text": [
      "Error processing MIDI file: data byte must be in range 0..127\n"
     ]
    },
    {
     "name": "stderr",
     "output_type": "stream",
     "text": [
      "Processing MIDI files:  43%|████▎     | 7399/17256 [14:25<22:24,  7.33it/s]"
     ]
    },
    {
     "name": "stdout",
     "output_type": "stream",
     "text": [
      "Error processing MIDI file: \n"
     ]
    },
    {
     "name": "stderr",
     "output_type": "stream",
     "text": [
      "Processing MIDI files:  43%|████▎     | 7483/17256 [14:37<23:04,  7.06it/s]"
     ]
    },
    {
     "name": "stdout",
     "output_type": "stream",
     "text": [
      "Error processing MIDI file: data byte must be in range 0..127\n"
     ]
    },
    {
     "name": "stderr",
     "output_type": "stream",
     "text": [
      "Processing MIDI files:  44%|████▎     | 7527/17256 [14:43<33:59,  4.77it/s]"
     ]
    },
    {
     "name": "stdout",
     "output_type": "stream",
     "text": [
      "Error processing MIDI file: MThd not found. Probably not a MIDI file\n"
     ]
    },
    {
     "name": "stderr",
     "output_type": "stream",
     "text": [
      "Processing MIDI files:  44%|████▍     | 7577/17256 [14:49<16:09,  9.98it/s]"
     ]
    },
    {
     "name": "stdout",
     "output_type": "stream",
     "text": [
      "Error processing MIDI file: Could not decode key with 2 flats and mode 255\n"
     ]
    },
    {
     "name": "stderr",
     "output_type": "stream",
     "text": [
      "Processing MIDI files:  44%|████▍     | 7623/17256 [14:53<13:52, 11.57it/s]"
     ]
    },
    {
     "name": "stdout",
     "output_type": "stream",
     "text": [
      "Error processing MIDI file: data byte must be in range 0..127\n"
     ]
    },
    {
     "name": "stderr",
     "output_type": "stream",
     "text": [
      "Processing MIDI files:  45%|████▌     | 7825/17256 [15:17<21:47,  7.21it/s]"
     ]
    },
    {
     "name": "stdout",
     "output_type": "stream",
     "text": [
      "Error processing MIDI file: data byte must be in range 0..127\n"
     ]
    },
    {
     "name": "stderr",
     "output_type": "stream",
     "text": [
      "Processing MIDI files:  46%|████▌     | 7903/17256 [15:26<17:43,  8.80it/s]"
     ]
    },
    {
     "name": "stdout",
     "output_type": "stream",
     "text": [
      "Error processing MIDI file: data byte must be in range 0..127\n"
     ]
    },
    {
     "name": "stderr",
     "output_type": "stream",
     "text": [
      "Processing MIDI files:  46%|████▌     | 7925/17256 [15:28<15:17, 10.17it/s]"
     ]
    },
    {
     "name": "stdout",
     "output_type": "stream",
     "text": [
      "Error processing MIDI file: data byte must be in range 0..127\n"
     ]
    },
    {
     "name": "stderr",
     "output_type": "stream",
     "text": [
      "Processing MIDI files:  46%|████▋     | 7986/17256 [15:33<10:52, 14.21it/s]"
     ]
    },
    {
     "name": "stdout",
     "output_type": "stream",
     "text": [
      "Error processing MIDI file: data byte must be in range 0..127\n"
     ]
    },
    {
     "name": "stderr",
     "output_type": "stream",
     "text": [
      "Processing MIDI files:  46%|████▋     | 8000/17256 [15:34<08:44, 17.64it/s]"
     ]
    },
    {
     "name": "stdout",
     "output_type": "stream",
     "text": [
      "Error processing MIDI file: data byte must be in range 0..127\n",
      "Error processing MIDI file: data byte must be in range 0..127\n"
     ]
    },
    {
     "name": "stderr",
     "output_type": "stream",
     "text": [
      "Processing MIDI files:  47%|████▋     | 8041/17256 [15:39<19:28,  7.89it/s]"
     ]
    },
    {
     "name": "stdout",
     "output_type": "stream",
     "text": [
      "Error processing MIDI file: data byte must be in range 0..127\n"
     ]
    },
    {
     "name": "stderr",
     "output_type": "stream",
     "text": [
      "Processing MIDI files:  47%|████▋     | 8054/17256 [15:42<23:36,  6.49it/s]"
     ]
    },
    {
     "name": "stdout",
     "output_type": "stream",
     "text": [
      "Error processing MIDI file: data byte must be in range 0..127\n"
     ]
    },
    {
     "name": "stderr",
     "output_type": "stream",
     "text": [
      "Processing MIDI files:  47%|████▋     | 8086/17256 [15:45<12:20, 12.39it/s]"
     ]
    },
    {
     "name": "stdout",
     "output_type": "stream",
     "text": [
      "Error processing MIDI file: Could not decode key with 1 flats and mode 255\n"
     ]
    },
    {
     "name": "stderr",
     "output_type": "stream",
     "text": [
      "Processing MIDI files:  48%|████▊     | 8307/17256 [16:11<15:03,  9.91it/s]"
     ]
    },
    {
     "name": "stdout",
     "output_type": "stream",
     "text": [
      "Error processing MIDI file: data byte must be in range 0..127\n",
      "Error processing MIDI file: data byte must be in range 0..127\n"
     ]
    },
    {
     "name": "stderr",
     "output_type": "stream",
     "text": [
      "Processing MIDI files:  48%|████▊     | 8347/17256 [16:16<15:03,  9.86it/s]"
     ]
    },
    {
     "name": "stdout",
     "output_type": "stream",
     "text": [
      "Error processing MIDI file: MIDI file has a largest tick of 12027564, it is likely corrupt\n"
     ]
    },
    {
     "name": "stderr",
     "output_type": "stream",
     "text": [
      "Processing MIDI files:  49%|████▉     | 8416/17256 [16:24<21:04,  6.99it/s]"
     ]
    },
    {
     "name": "stdout",
     "output_type": "stream",
     "text": [
      "Error processing MIDI file: data byte must be in range 0..127\n"
     ]
    },
    {
     "name": "stderr",
     "output_type": "stream",
     "text": [
      "Processing MIDI files:  49%|████▉     | 8456/17256 [16:31<22:21,  6.56it/s]"
     ]
    },
    {
     "name": "stdout",
     "output_type": "stream",
     "text": [
      "Error processing MIDI file: data byte must be in range 0..127\n"
     ]
    },
    {
     "name": "stderr",
     "output_type": "stream",
     "text": [
      "Processing MIDI files:  49%|████▉     | 8504/17256 [16:37<14:54,  9.79it/s]"
     ]
    },
    {
     "name": "stdout",
     "output_type": "stream",
     "text": [
      "Error processing MIDI file: data byte must be in range 0..127\n"
     ]
    },
    {
     "name": "stderr",
     "output_type": "stream",
     "text": [
      "Processing MIDI files:  50%|████▉     | 8573/17256 [16:46<12:32, 11.54it/s]"
     ]
    },
    {
     "name": "stdout",
     "output_type": "stream",
     "text": [
      "Error processing MIDI file: data byte must be in range 0..127\n"
     ]
    },
    {
     "name": "stderr",
     "output_type": "stream",
     "text": [
      "Processing MIDI files:  50%|████▉     | 8598/17256 [16:49<21:09,  6.82it/s]"
     ]
    },
    {
     "name": "stdout",
     "output_type": "stream",
     "text": [
      "Error processing MIDI file: data byte must be in range 0..127\n"
     ]
    },
    {
     "name": "stderr",
     "output_type": "stream",
     "text": [
      "Processing MIDI files:  51%|█████     | 8743/17256 [17:05<12:11, 11.64it/s]"
     ]
    },
    {
     "name": "stdout",
     "output_type": "stream",
     "text": [
      "Error processing MIDI file: data byte must be in range 0..127\n",
      "Error processing MIDI file: data byte must be in range 0..127\n"
     ]
    },
    {
     "name": "stderr",
     "output_type": "stream",
     "text": [
      "Processing MIDI files:  51%|█████     | 8777/17256 [17:09<12:21, 11.44it/s]"
     ]
    },
    {
     "name": "stdout",
     "output_type": "stream",
     "text": [
      "Error processing MIDI file: Message length 2093056 exceeds maximum length 1000000\n"
     ]
    },
    {
     "name": "stderr",
     "output_type": "stream",
     "text": [
      "Processing MIDI files:  51%|█████     | 8786/17256 [17:11<20:44,  6.80it/s]"
     ]
    },
    {
     "name": "stdout",
     "output_type": "stream",
     "text": [
      "Error processing MIDI file: Could not decode key with 2 flats and mode 255\n"
     ]
    },
    {
     "name": "stderr",
     "output_type": "stream",
     "text": [
      "Processing MIDI files:  52%|█████▏    | 8930/17256 [17:29<15:47,  8.79it/s]"
     ]
    },
    {
     "name": "stdout",
     "output_type": "stream",
     "text": [
      "Error processing MIDI file: Message length 2093056 exceeds maximum length 1000000\n"
     ]
    },
    {
     "name": "stderr",
     "output_type": "stream",
     "text": [
      "Processing MIDI files:  52%|█████▏    | 9005/17256 [17:40<12:48, 10.74it/s]"
     ]
    },
    {
     "name": "stdout",
     "output_type": "stream",
     "text": [
      "Error processing MIDI file: \n"
     ]
    },
    {
     "name": "stderr",
     "output_type": "stream",
     "text": [
      "Processing MIDI files:  52%|█████▏    | 9043/17256 [17:44<12:56, 10.57it/s]"
     ]
    },
    {
     "name": "stdout",
     "output_type": "stream",
     "text": [
      "Error processing MIDI file: Could not decode key with 2 flats and mode 255\n"
     ]
    },
    {
     "name": "stderr",
     "output_type": "stream",
     "text": [
      "Processing MIDI files:  53%|█████▎    | 9150/17256 [17:58<19:02,  7.09it/s]"
     ]
    },
    {
     "name": "stdout",
     "output_type": "stream",
     "text": [
      "Error processing MIDI file: data byte must be in range 0..127\n"
     ]
    },
    {
     "name": "stderr",
     "output_type": "stream",
     "text": [
      "Processing MIDI files:  53%|█████▎    | 9199/17256 [18:02<15:28,  8.68it/s]"
     ]
    },
    {
     "name": "stdout",
     "output_type": "stream",
     "text": [
      "Error processing MIDI file: data byte must be in range 0..127\n"
     ]
    },
    {
     "name": "stderr",
     "output_type": "stream",
     "text": [
      "Processing MIDI files:  53%|█████▎    | 9223/17256 [18:04<08:17, 16.16it/s]"
     ]
    },
    {
     "name": "stdout",
     "output_type": "stream",
     "text": [
      "Error processing MIDI file: \n"
     ]
    },
    {
     "name": "stderr",
     "output_type": "stream",
     "text": [
      "Processing MIDI files:  54%|█████▍    | 9323/17256 [18:15<19:03,  6.94it/s]"
     ]
    },
    {
     "name": "stdout",
     "output_type": "stream",
     "text": [
      "Error processing MIDI file: data byte must be in range 0..127\n"
     ]
    },
    {
     "name": "stderr",
     "output_type": "stream",
     "text": [
      "Processing MIDI files:  55%|█████▍    | 9422/17256 [18:26<18:07,  7.20it/s]"
     ]
    },
    {
     "name": "stdout",
     "output_type": "stream",
     "text": [
      "Error processing MIDI file: data byte must be in range 0..127\n"
     ]
    },
    {
     "name": "stderr",
     "output_type": "stream",
     "text": [
      "Processing MIDI files:  55%|█████▍    | 9486/17256 [18:35<15:20,  8.44it/s]"
     ]
    },
    {
     "name": "stdout",
     "output_type": "stream",
     "text": [
      "Error processing MIDI file: data byte must be in range 0..127\n"
     ]
    },
    {
     "name": "stderr",
     "output_type": "stream",
     "text": [
      "Processing MIDI files:  55%|█████▌    | 9524/17256 [18:41<17:59,  7.16it/s]"
     ]
    },
    {
     "name": "stdout",
     "output_type": "stream",
     "text": [
      "Error processing MIDI file: \n"
     ]
    },
    {
     "name": "stderr",
     "output_type": "stream",
     "text": [
      "Processing MIDI files:  56%|█████▌    | 9648/17256 [19:01<18:57,  6.69it/s]"
     ]
    },
    {
     "name": "stdout",
     "output_type": "stream",
     "text": [
      "Error processing MIDI file: \n"
     ]
    },
    {
     "name": "stderr",
     "output_type": "stream",
     "text": [
      "Processing MIDI files:  56%|█████▌    | 9660/17256 [19:02<12:46,  9.91it/s]"
     ]
    },
    {
     "name": "stdout",
     "output_type": "stream",
     "text": [
      "Error processing MIDI file: \n",
      "Error processing MIDI file: data byte must be in range 0..127\n"
     ]
    },
    {
     "name": "stderr",
     "output_type": "stream",
     "text": [
      "Processing MIDI files:  56%|█████▌    | 9689/17256 [19:07<20:52,  6.04it/s]"
     ]
    },
    {
     "name": "stdout",
     "output_type": "stream",
     "text": [
      "Error processing MIDI file: data byte must be in range 0..127\n"
     ]
    },
    {
     "name": "stderr",
     "output_type": "stream",
     "text": [
      "Processing MIDI files:  57%|█████▋    | 9845/17256 [19:29<12:21, 10.00it/s]"
     ]
    },
    {
     "name": "stdout",
     "output_type": "stream",
     "text": [
      "Error processing MIDI file: data byte must be in range 0..127\n"
     ]
    },
    {
     "name": "stderr",
     "output_type": "stream",
     "text": [
      "Processing MIDI files:  58%|█████▊    | 9985/17256 [19:44<06:40, 18.17it/s]"
     ]
    },
    {
     "name": "stdout",
     "output_type": "stream",
     "text": [
      "Error processing MIDI file: data byte must be in range 0..127\n"
     ]
    },
    {
     "name": "stderr",
     "output_type": "stream",
     "text": [
      "Processing MIDI files:  58%|█████▊    | 10087/17256 [19:54<11:57,  9.99it/s]"
     ]
    },
    {
     "name": "stdout",
     "output_type": "stream",
     "text": [
      "Error processing MIDI file: Could not decode key with 2 flats and mode 2\n"
     ]
    },
    {
     "name": "stderr",
     "output_type": "stream",
     "text": [
      "Processing MIDI files:  59%|█████▊    | 10107/17256 [19:56<09:31, 12.51it/s]"
     ]
    },
    {
     "name": "stdout",
     "output_type": "stream",
     "text": [
      "Error processing MIDI file: data byte must be in range 0..127\n"
     ]
    },
    {
     "name": "stderr",
     "output_type": "stream",
     "text": [
      "Processing MIDI files:  59%|█████▉    | 10173/17256 [20:03<17:50,  6.62it/s]"
     ]
    },
    {
     "name": "stdout",
     "output_type": "stream",
     "text": [
      "Error processing MIDI file: data byte must be in range 0..127\n"
     ]
    },
    {
     "name": "stderr",
     "output_type": "stream",
     "text": [
      "Processing MIDI files:  59%|█████▉    | 10190/17256 [20:05<12:46,  9.22it/s]"
     ]
    },
    {
     "name": "stdout",
     "output_type": "stream",
     "text": [
      "Error processing MIDI file: data byte must be in range 0..127\n"
     ]
    },
    {
     "name": "stderr",
     "output_type": "stream",
     "text": [
      "Processing MIDI files:  59%|█████▉    | 10208/17256 [20:08<12:32,  9.36it/s]"
     ]
    },
    {
     "name": "stdout",
     "output_type": "stream",
     "text": [
      "Error processing MIDI file: data byte must be in range 0..127\n"
     ]
    },
    {
     "name": "stderr",
     "output_type": "stream",
     "text": [
      "Processing MIDI files:  60%|█████▉    | 10289/17256 [20:18<12:43,  9.13it/s]"
     ]
    },
    {
     "name": "stdout",
     "output_type": "stream",
     "text": [
      "Error processing MIDI file: Could not decode key with 14 sharps and mode 78\n"
     ]
    },
    {
     "name": "stderr",
     "output_type": "stream",
     "text": [
      "Processing MIDI files:  60%|█████▉    | 10291/17256 [20:18<11:01, 10.54it/s]"
     ]
    },
    {
     "name": "stdout",
     "output_type": "stream",
     "text": [
      "Error processing MIDI file: running status without last_status\n"
     ]
    },
    {
     "name": "stderr",
     "output_type": "stream",
     "text": [
      "Processing MIDI files:  60%|█████▉    | 10300/17256 [20:19<07:54, 14.67it/s]"
     ]
    },
    {
     "name": "stdout",
     "output_type": "stream",
     "text": [
      "Error processing MIDI file: data byte must be in range 0..127\n"
     ]
    },
    {
     "name": "stderr",
     "output_type": "stream",
     "text": [
      "Processing MIDI files:  60%|█████▉    | 10308/17256 [20:19<07:19, 15.81it/s]"
     ]
    },
    {
     "name": "stdout",
     "output_type": "stream",
     "text": [
      "Error processing MIDI file: data byte must be in range 0..127\n",
      "Error processing MIDI file: running status without last_status\n"
     ]
    },
    {
     "name": "stderr",
     "output_type": "stream",
     "text": [
      "Processing MIDI files:  60%|█████▉    | 10323/17256 [20:20<07:00, 16.50it/s]"
     ]
    },
    {
     "name": "stdout",
     "output_type": "stream",
     "text": [
      "Error processing MIDI file: data byte must be in range 0..127\n",
      "Error processing MIDI file: data byte must be in range 0..127\n",
      "Error processing MIDI file: no MTrk header at start of track\n",
      "Error processing MIDI file: data byte must be in range 0..127\n"
     ]
    },
    {
     "name": "stderr",
     "output_type": "stream",
     "text": [
      "Processing MIDI files:  60%|█████▉    | 10333/17256 [20:21<08:15, 13.98it/s]"
     ]
    },
    {
     "name": "stdout",
     "output_type": "stream",
     "text": [
      "Error processing MIDI file: running status without last_status\n",
      "Error processing MIDI file: data byte must be in range 0..127\n"
     ]
    },
    {
     "name": "stderr",
     "output_type": "stream",
     "text": [
      "Processing MIDI files:  60%|█████▉    | 10345/17256 [20:22<10:10, 11.32it/s]"
     ]
    },
    {
     "name": "stdout",
     "output_type": "stream",
     "text": [
      "Error processing MIDI file: running status without last_status\n"
     ]
    },
    {
     "name": "stderr",
     "output_type": "stream",
     "text": [
      "Processing MIDI files:  60%|██████    | 10367/17256 [20:23<05:15, 21.81it/s]"
     ]
    },
    {
     "name": "stdout",
     "output_type": "stream",
     "text": [
      "Error processing MIDI file: data byte must be in range 0..127\n",
      "Error processing MIDI file: no MTrk header at start of track\n",
      "Error processing MIDI file: running status without last_status\n",
      "Error processing MIDI file: running status without last_status\n"
     ]
    },
    {
     "name": "stderr",
     "output_type": "stream",
     "text": [
      "Processing MIDI files:  60%|██████    | 10374/17256 [20:24<04:54, 23.40it/s]"
     ]
    },
    {
     "name": "stdout",
     "output_type": "stream",
     "text": [
      "Error processing MIDI file: running status without last_status\n",
      "Error processing MIDI file: no MTrk header at start of track\n"
     ]
    },
    {
     "name": "stderr",
     "output_type": "stream",
     "text": [
      "Processing MIDI files:  60%|██████    | 10381/17256 [20:24<05:06, 22.42it/s]"
     ]
    },
    {
     "name": "stdout",
     "output_type": "stream",
     "text": [
      "Error processing MIDI file: data byte must be in range 0..127\n"
     ]
    },
    {
     "name": "stderr",
     "output_type": "stream",
     "text": [
      "Processing MIDI files:  60%|██████    | 10384/17256 [20:24<05:09, 22.21it/s]"
     ]
    },
    {
     "name": "stdout",
     "output_type": "stream",
     "text": [
      "Error processing MIDI file: data byte must be in range 0..127\n",
      "Error processing MIDI file: data byte must be in range 0..127\n"
     ]
    },
    {
     "name": "stderr",
     "output_type": "stream",
     "text": [
      "Processing MIDI files:  60%|██████    | 10400/17256 [20:25<06:24, 17.82it/s]"
     ]
    },
    {
     "name": "stdout",
     "output_type": "stream",
     "text": [
      "Error processing MIDI file: data byte must be in range 0..127\n"
     ]
    },
    {
     "name": "stderr",
     "output_type": "stream",
     "text": [
      "Processing MIDI files:  60%|██████    | 10409/17256 [20:26<07:55, 14.40it/s]"
     ]
    },
    {
     "name": "stdout",
     "output_type": "stream",
     "text": [
      "Error processing MIDI file: data byte must be in range 0..127\n"
     ]
    },
    {
     "name": "stderr",
     "output_type": "stream",
     "text": [
      "Processing MIDI files:  60%|██████    | 10419/17256 [20:27<10:49, 10.53it/s]"
     ]
    },
    {
     "name": "stdout",
     "output_type": "stream",
     "text": [
      "Error processing MIDI file: data byte must be in range 0..127\n"
     ]
    },
    {
     "name": "stderr",
     "output_type": "stream",
     "text": [
      "Processing MIDI files:  60%|██████    | 10424/17256 [20:27<08:06, 14.06it/s]"
     ]
    },
    {
     "name": "stdout",
     "output_type": "stream",
     "text": [
      "Error processing MIDI file: no MTrk header at start of track\n"
     ]
    },
    {
     "name": "stderr",
     "output_type": "stream",
     "text": [
      "Processing MIDI files:  60%|██████    | 10428/17256 [20:27<08:41, 13.10it/s]"
     ]
    },
    {
     "name": "stdout",
     "output_type": "stream",
     "text": [
      "Error processing MIDI file: data byte must be in range 0..127\n"
     ]
    },
    {
     "name": "stderr",
     "output_type": "stream",
     "text": [
      "Processing MIDI files:  60%|██████    | 10432/17256 [20:28<08:34, 13.26it/s]"
     ]
    },
    {
     "name": "stdout",
     "output_type": "stream",
     "text": [
      "Error processing MIDI file: data byte must be in range 0..127\n"
     ]
    },
    {
     "name": "stderr",
     "output_type": "stream",
     "text": [
      "Processing MIDI files:  60%|██████    | 10438/17256 [20:28<08:51, 12.84it/s]"
     ]
    },
    {
     "name": "stdout",
     "output_type": "stream",
     "text": [
      "Error processing MIDI file: data byte must be in range 0..127\n",
      "Error processing MIDI file: data byte must be in range 0..127\n"
     ]
    },
    {
     "name": "stderr",
     "output_type": "stream",
     "text": [
      "Processing MIDI files:  61%|██████    | 10502/17256 [20:37<09:56, 11.32it/s]"
     ]
    },
    {
     "name": "stdout",
     "output_type": "stream",
     "text": [
      "Error processing MIDI file: data byte must be in range 0..127\n",
      "Error processing MIDI file: data byte must be in range 0..127\n"
     ]
    },
    {
     "name": "stderr",
     "output_type": "stream",
     "text": [
      "Processing MIDI files:  62%|██████▏   | 10756/17256 [21:10<07:02, 15.40it/s]"
     ]
    },
    {
     "name": "stdout",
     "output_type": "stream",
     "text": [
      "Error processing MIDI file: data byte must be in range 0..127\n"
     ]
    },
    {
     "name": "stderr",
     "output_type": "stream",
     "text": [
      "Processing MIDI files:  63%|██████▎   | 10906/17256 [21:27<12:47,  8.28it/s]"
     ]
    },
    {
     "name": "stdout",
     "output_type": "stream",
     "text": [
      "Error processing MIDI file: undefined status byte 0xf5\n"
     ]
    },
    {
     "name": "stderr",
     "output_type": "stream",
     "text": [
      "Processing MIDI files:  64%|██████▎   | 10984/17256 [21:40<15:02,  6.95it/s]"
     ]
    },
    {
     "name": "stdout",
     "output_type": "stream",
     "text": [
      "Error processing MIDI file: data byte must be in range 0..127\n",
      "Error processing MIDI file: data byte must be in range 0..127\n"
     ]
    },
    {
     "name": "stderr",
     "output_type": "stream",
     "text": [
      "Processing MIDI files:  64%|██████▍   | 11007/17256 [21:43<10:52,  9.58it/s]"
     ]
    },
    {
     "name": "stdout",
     "output_type": "stream",
     "text": [
      "Error processing MIDI file: Could not decode key with 2 flats and mode 255\n"
     ]
    },
    {
     "name": "stderr",
     "output_type": "stream",
     "text": [
      "Processing MIDI files:  64%|██████▍   | 11039/17256 [21:46<07:46, 13.32it/s]"
     ]
    },
    {
     "name": "stdout",
     "output_type": "stream",
     "text": [
      "Error processing MIDI file: MThd not found. Probably not a MIDI file\n"
     ]
    },
    {
     "name": "stderr",
     "output_type": "stream",
     "text": [
      "Processing MIDI files:  64%|██████▍   | 11069/17256 [21:49<06:35, 15.63it/s]"
     ]
    },
    {
     "name": "stdout",
     "output_type": "stream",
     "text": [
      "Error processing MIDI file: data byte must be in range 0..127\n",
      "Error processing MIDI file: data byte must be in range 0..127\n"
     ]
    },
    {
     "name": "stderr",
     "output_type": "stream",
     "text": [
      "Processing MIDI files:  64%|██████▍   | 11079/17256 [21:50<11:13,  9.17it/s]"
     ]
    },
    {
     "name": "stdout",
     "output_type": "stream",
     "text": [
      "Error processing MIDI file: data byte must be in range 0..127\n"
     ]
    },
    {
     "name": "stderr",
     "output_type": "stream",
     "text": [
      "Processing MIDI files:  64%|██████▍   | 11084/17256 [21:51<11:40,  8.81it/s]"
     ]
    },
    {
     "name": "stdout",
     "output_type": "stream",
     "text": [
      "Error processing MIDI file: data byte must be in range 0..127\n"
     ]
    },
    {
     "name": "stderr",
     "output_type": "stream",
     "text": [
      "Processing MIDI files:  64%|██████▍   | 11101/17256 [21:53<10:14, 10.02it/s]"
     ]
    },
    {
     "name": "stdout",
     "output_type": "stream",
     "text": [
      "Error processing MIDI file: data byte must be in range 0..127\n"
     ]
    },
    {
     "name": "stderr",
     "output_type": "stream",
     "text": [
      "Processing MIDI files:  64%|██████▍   | 11120/17256 [21:55<07:32, 13.56it/s]"
     ]
    },
    {
     "name": "stdout",
     "output_type": "stream",
     "text": [
      "Error processing MIDI file: \n"
     ]
    },
    {
     "name": "stderr",
     "output_type": "stream",
     "text": [
      "Processing MIDI files:  65%|██████▍   | 11139/17256 [21:57<08:31, 11.95it/s]"
     ]
    },
    {
     "name": "stdout",
     "output_type": "stream",
     "text": [
      "Error processing MIDI file: data byte must be in range 0..127\n"
     ]
    },
    {
     "name": "stderr",
     "output_type": "stream",
     "text": [
      "Processing MIDI files:  65%|██████▌   | 11233/17256 [22:10<09:28, 10.59it/s]"
     ]
    },
    {
     "name": "stdout",
     "output_type": "stream",
     "text": [
      "Error processing MIDI file: data byte must be in range 0..127\n"
     ]
    },
    {
     "name": "stderr",
     "output_type": "stream",
     "text": [
      "Processing MIDI files:  68%|██████▊   | 11754/17256 [23:10<06:00, 15.26it/s]"
     ]
    },
    {
     "name": "stdout",
     "output_type": "stream",
     "text": [
      "Error processing MIDI file: MThd not found. Probably not a MIDI file\n"
     ]
    },
    {
     "name": "stderr",
     "output_type": "stream",
     "text": [
      "Processing MIDI files:  68%|██████▊   | 11767/17256 [23:11<04:57, 18.43it/s]"
     ]
    },
    {
     "name": "stdout",
     "output_type": "stream",
     "text": [
      "Error processing MIDI file: data byte must be in range 0..127\n",
      "Error processing MIDI file: data byte must be in range 0..127\n"
     ]
    },
    {
     "name": "stderr",
     "output_type": "stream",
     "text": [
      "Processing MIDI files:  68%|██████▊   | 11778/17256 [23:12<06:43, 13.59it/s]"
     ]
    },
    {
     "name": "stdout",
     "output_type": "stream",
     "text": [
      "Error processing MIDI file: data byte must be in range 0..127\n"
     ]
    },
    {
     "name": "stderr",
     "output_type": "stream",
     "text": [
      "Processing MIDI files:  68%|██████▊   | 11786/17256 [23:13<09:26,  9.65it/s]"
     ]
    },
    {
     "name": "stdout",
     "output_type": "stream",
     "text": [
      "Error processing MIDI file: data byte must be in range 0..127\n"
     ]
    },
    {
     "name": "stderr",
     "output_type": "stream",
     "text": [
      "Processing MIDI files:  69%|██████▉   | 11881/17256 [23:25<08:04, 11.09it/s]"
     ]
    },
    {
     "name": "stdout",
     "output_type": "stream",
     "text": [
      "Error processing MIDI file: Could not decode key with 1 flats and mode 255\n"
     ]
    },
    {
     "name": "stderr",
     "output_type": "stream",
     "text": [
      "Processing MIDI files:  69%|██████▉   | 11900/17256 [23:27<08:32, 10.45it/s]"
     ]
    },
    {
     "name": "stdout",
     "output_type": "stream",
     "text": [
      "Error processing MIDI file: data byte must be in range 0..127\n"
     ]
    },
    {
     "name": "stderr",
     "output_type": "stream",
     "text": [
      "Processing MIDI files:  69%|██████▉   | 11975/17256 [23:35<11:12,  7.85it/s]"
     ]
    },
    {
     "name": "stdout",
     "output_type": "stream",
     "text": [
      "Error processing MIDI file: data byte must be in range 0..127\n"
     ]
    },
    {
     "name": "stderr",
     "output_type": "stream",
     "text": [
      "Processing MIDI files:  69%|██████▉   | 11992/17256 [23:37<07:36, 11.54it/s]"
     ]
    },
    {
     "name": "stdout",
     "output_type": "stream",
     "text": [
      "Error processing MIDI file: data byte must be in range 0..127\n"
     ]
    },
    {
     "name": "stderr",
     "output_type": "stream",
     "text": [
      "Processing MIDI files:  70%|██████▉   | 12005/17256 [23:40<14:50,  5.89it/s]"
     ]
    },
    {
     "name": "stdout",
     "output_type": "stream",
     "text": [
      "Error processing MIDI file: data byte must be in range 0..127\n"
     ]
    },
    {
     "name": "stderr",
     "output_type": "stream",
     "text": [
      "Processing MIDI files:  71%|███████   | 12169/17256 [24:00<10:13,  8.29it/s]"
     ]
    },
    {
     "name": "stdout",
     "output_type": "stream",
     "text": [
      "Error processing MIDI file: data byte must be in range 0..127\n"
     ]
    },
    {
     "name": "stderr",
     "output_type": "stream",
     "text": [
      "Processing MIDI files:  71%|███████   | 12187/17256 [24:02<07:32, 11.20it/s]"
     ]
    },
    {
     "name": "stdout",
     "output_type": "stream",
     "text": [
      "Error processing MIDI file: MIDI file has a largest tick of 4295115785, it is likely corrupt\n"
     ]
    },
    {
     "name": "stderr",
     "output_type": "stream",
     "text": [
      "Processing MIDI files:  71%|███████   | 12236/17256 [24:09<08:49,  9.49it/s]"
     ]
    },
    {
     "name": "stdout",
     "output_type": "stream",
     "text": [
      "Error processing MIDI file: data byte must be in range 0..127\n",
      "Error processing MIDI file: data byte must be in range 0..127\n"
     ]
    },
    {
     "name": "stderr",
     "output_type": "stream",
     "text": [
      "Processing MIDI files:  72%|███████▏  | 12345/17256 [24:21<07:53, 10.37it/s]"
     ]
    },
    {
     "name": "stdout",
     "output_type": "stream",
     "text": [
      "Error processing MIDI file: data byte must be in range 0..127\n"
     ]
    },
    {
     "name": "stderr",
     "output_type": "stream",
     "text": [
      "Processing MIDI files:  72%|███████▏  | 12414/17256 [24:32<09:07,  8.85it/s]"
     ]
    },
    {
     "name": "stdout",
     "output_type": "stream",
     "text": [
      "Error processing MIDI file: data byte must be in range 0..127\n"
     ]
    },
    {
     "name": "stderr",
     "output_type": "stream",
     "text": [
      "Processing MIDI files:  72%|███████▏  | 12458/17256 [24:36<06:33, 12.18it/s]"
     ]
    },
    {
     "name": "stdout",
     "output_type": "stream",
     "text": [
      "Error processing MIDI file: MIDI file has a largest tick of 4295053573, it is likely corrupt\n"
     ]
    },
    {
     "name": "stderr",
     "output_type": "stream",
     "text": [
      "Processing MIDI files:  73%|███████▎  | 12527/17256 [24:43<07:21, 10.71it/s]"
     ]
    },
    {
     "name": "stdout",
     "output_type": "stream",
     "text": [
      "Error processing MIDI file: data byte must be in range 0..127\n"
     ]
    },
    {
     "name": "stderr",
     "output_type": "stream",
     "text": [
      "Processing MIDI files:  73%|███████▎  | 12562/17256 [24:47<07:49, 10.00it/s]"
     ]
    },
    {
     "name": "stdout",
     "output_type": "stream",
     "text": [
      "Error processing MIDI file: Could not decode key with 0 flats and mode 2\n"
     ]
    },
    {
     "name": "stderr",
     "output_type": "stream",
     "text": [
      "Processing MIDI files:  73%|███████▎  | 12614/17256 [24:53<05:23, 14.34it/s]"
     ]
    },
    {
     "name": "stdout",
     "output_type": "stream",
     "text": [
      "Error processing MIDI file: Could not decode key with 1 flats and mode 255\n"
     ]
    },
    {
     "name": "stderr",
     "output_type": "stream",
     "text": [
      "Processing MIDI files:  73%|███████▎  | 12621/17256 [24:54<05:59, 12.89it/s]"
     ]
    },
    {
     "name": "stdout",
     "output_type": "stream",
     "text": [
      "Error processing MIDI file: data byte must be in range 0..127\n"
     ]
    },
    {
     "name": "stderr",
     "output_type": "stream",
     "text": [
      "Processing MIDI files:  73%|███████▎  | 12644/17256 [24:56<06:51, 11.20it/s]"
     ]
    },
    {
     "name": "stdout",
     "output_type": "stream",
     "text": [
      "Error processing MIDI file: data byte must be in range 0..127\n"
     ]
    },
    {
     "name": "stderr",
     "output_type": "stream",
     "text": [
      "Processing MIDI files:  74%|███████▎  | 12713/17256 [25:03<08:53,  8.52it/s]"
     ]
    },
    {
     "name": "stdout",
     "output_type": "stream",
     "text": [
      "Error processing MIDI file: data byte must be in range 0..127\n"
     ]
    },
    {
     "name": "stderr",
     "output_type": "stream",
     "text": [
      "Processing MIDI files:  74%|███████▍  | 12758/17256 [25:09<07:41,  9.76it/s]"
     ]
    },
    {
     "name": "stdout",
     "output_type": "stream",
     "text": [
      "Error processing MIDI file: data byte must be in range 0..127\n"
     ]
    },
    {
     "name": "stderr",
     "output_type": "stream",
     "text": [
      "Processing MIDI files:  74%|███████▍  | 12803/17256 [25:15<10:37,  6.98it/s]"
     ]
    },
    {
     "name": "stdout",
     "output_type": "stream",
     "text": [
      "Error processing MIDI file: \n"
     ]
    },
    {
     "name": "stderr",
     "output_type": "stream",
     "text": [
      "Processing MIDI files:  75%|███████▍  | 12902/17256 [25:24<04:49, 15.02it/s]"
     ]
    },
    {
     "name": "stdout",
     "output_type": "stream",
     "text": [
      "Error processing MIDI file: data byte must be in range 0..127\n"
     ]
    },
    {
     "name": "stderr",
     "output_type": "stream",
     "text": [
      "Processing MIDI files:  75%|███████▌  | 12956/17256 [25:31<07:22,  9.71it/s]"
     ]
    },
    {
     "name": "stdout",
     "output_type": "stream",
     "text": [
      "Error processing MIDI file: data byte must be in range 0..127\n"
     ]
    },
    {
     "name": "stderr",
     "output_type": "stream",
     "text": [
      "Processing MIDI files:  75%|███████▌  | 13000/17256 [25:35<04:39, 15.23it/s]"
     ]
    },
    {
     "name": "stdout",
     "output_type": "stream",
     "text": [
      "Error processing MIDI file: data byte must be in range 0..127\n"
     ]
    },
    {
     "name": "stderr",
     "output_type": "stream",
     "text": [
      "Processing MIDI files:  76%|███████▌  | 13048/17256 [25:39<04:35, 15.30it/s]"
     ]
    },
    {
     "name": "stdout",
     "output_type": "stream",
     "text": [
      "Error processing MIDI file: MIDI file has a largest tick of 25433089, it is likely corrupt\n"
     ]
    },
    {
     "name": "stderr",
     "output_type": "stream",
     "text": [
      "Processing MIDI files:  76%|███████▌  | 13143/17256 [25:48<04:30, 15.19it/s]"
     ]
    },
    {
     "name": "stdout",
     "output_type": "stream",
     "text": [
      "Error processing MIDI file: Could not decode key with 15 sharps and mode 66\n"
     ]
    },
    {
     "name": "stderr",
     "output_type": "stream",
     "text": [
      "Processing MIDI files:  77%|███████▋  | 13331/17256 [26:11<07:00,  9.34it/s]"
     ]
    },
    {
     "name": "stdout",
     "output_type": "stream",
     "text": [
      "Error processing MIDI file: data byte must be in range 0..127\n"
     ]
    },
    {
     "name": "stderr",
     "output_type": "stream",
     "text": [
      "Processing MIDI files:  78%|███████▊  | 13432/17256 [26:27<07:09,  8.90it/s]"
     ]
    },
    {
     "name": "stdout",
     "output_type": "stream",
     "text": [
      "Error processing MIDI file: data byte must be in range 0..127\n"
     ]
    },
    {
     "name": "stderr",
     "output_type": "stream",
     "text": [
      "Processing MIDI files:  78%|███████▊  | 13473/17256 [26:33<08:41,  7.26it/s]"
     ]
    },
    {
     "name": "stdout",
     "output_type": "stream",
     "text": [
      "Error processing MIDI file: data byte must be in range 0..127\n"
     ]
    },
    {
     "name": "stderr",
     "output_type": "stream",
     "text": [
      "Processing MIDI files:  78%|███████▊  | 13530/17256 [26:41<05:15, 11.80it/s]"
     ]
    },
    {
     "name": "stdout",
     "output_type": "stream",
     "text": [
      "Error processing MIDI file: MThd not found. Probably not a MIDI file\n"
     ]
    },
    {
     "name": "stderr",
     "output_type": "stream",
     "text": [
      "Processing MIDI files:  78%|███████▊  | 13535/17256 [26:41<04:15, 14.54it/s]"
     ]
    },
    {
     "name": "stdout",
     "output_type": "stream",
     "text": [
      "Error processing MIDI file: no MTrk header at start of track\n"
     ]
    },
    {
     "name": "stderr",
     "output_type": "stream",
     "text": [
      "Processing MIDI files:  79%|███████▉  | 13645/17256 [26:55<05:54, 10.19it/s]"
     ]
    },
    {
     "name": "stdout",
     "output_type": "stream",
     "text": [
      "Error processing MIDI file: data byte must be in range 0..127\n"
     ]
    },
    {
     "name": "stderr",
     "output_type": "stream",
     "text": [
      "Processing MIDI files:  79%|███████▉  | 13706/17256 [27:03<07:48,  7.57it/s]"
     ]
    },
    {
     "name": "stdout",
     "output_type": "stream",
     "text": [
      "Error processing MIDI file: data byte must be in range 0..127\n"
     ]
    },
    {
     "name": "stderr",
     "output_type": "stream",
     "text": [
      "Processing MIDI files:  80%|███████▉  | 13744/17256 [27:08<06:11,  9.46it/s]"
     ]
    },
    {
     "name": "stdout",
     "output_type": "stream",
     "text": [
      "Error processing MIDI file: \n"
     ]
    },
    {
     "name": "stderr",
     "output_type": "stream",
     "text": [
      "Processing MIDI files:  80%|███████▉  | 13750/17256 [27:08<05:24, 10.81it/s]"
     ]
    },
    {
     "name": "stdout",
     "output_type": "stream",
     "text": [
      "Error processing MIDI file: data byte must be in range 0..127\n"
     ]
    },
    {
     "name": "stderr",
     "output_type": "stream",
     "text": [
      "Processing MIDI files:  81%|████████  | 13909/17256 [27:29<05:58,  9.35it/s]"
     ]
    },
    {
     "name": "stdout",
     "output_type": "stream",
     "text": [
      "Error processing MIDI file: Could not decode key with 2 flats and mode 163\n"
     ]
    },
    {
     "name": "stderr",
     "output_type": "stream",
     "text": [
      "Processing MIDI files:  81%|████████▏ | 14028/17256 [27:43<04:35, 11.71it/s]"
     ]
    },
    {
     "name": "stdout",
     "output_type": "stream",
     "text": [
      "Error processing MIDI file: data byte must be in range 0..127\n"
     ]
    },
    {
     "name": "stderr",
     "output_type": "stream",
     "text": [
      "Processing MIDI files:  81%|████████▏ | 14041/17256 [27:45<05:40,  9.44it/s]"
     ]
    },
    {
     "name": "stdout",
     "output_type": "stream",
     "text": [
      "Error processing MIDI file: data byte must be in range 0..127\n"
     ]
    },
    {
     "name": "stderr",
     "output_type": "stream",
     "text": [
      "Processing MIDI files:  82%|████████▏ | 14120/17256 [27:53<04:31, 11.54it/s]"
     ]
    },
    {
     "name": "stdout",
     "output_type": "stream",
     "text": [
      "Error processing MIDI file: data byte must be in range 0..127\n"
     ]
    },
    {
     "name": "stderr",
     "output_type": "stream",
     "text": [
      "Processing MIDI files:  83%|████████▎ | 14260/17256 [28:04<03:04, 16.27it/s]"
     ]
    },
    {
     "name": "stdout",
     "output_type": "stream",
     "text": [
      "Error processing MIDI file: data byte must be in range 0..127\n"
     ]
    },
    {
     "name": "stderr",
     "output_type": "stream",
     "text": [
      "Processing MIDI files:  83%|████████▎ | 14273/17256 [28:05<03:33, 13.94it/s]"
     ]
    },
    {
     "name": "stdout",
     "output_type": "stream",
     "text": [
      "Error processing MIDI file: data byte must be in range 0..127\n",
      "Error processing MIDI file: data byte must be in range 0..127\n",
      "Error processing MIDI file: data byte must be in range 0..127\n"
     ]
    },
    {
     "name": "stderr",
     "output_type": "stream",
     "text": [
      "Processing MIDI files:  83%|████████▎ | 14290/17256 [28:06<03:47, 13.04it/s]"
     ]
    },
    {
     "name": "stdout",
     "output_type": "stream",
     "text": [
      "Error processing MIDI file: data byte must be in range 0..127\n"
     ]
    },
    {
     "name": "stderr",
     "output_type": "stream",
     "text": [
      "Processing MIDI files:  84%|████████▍ | 14513/17256 [28:24<02:44, 16.63it/s]"
     ]
    },
    {
     "name": "stdout",
     "output_type": "stream",
     "text": [
      "Error processing MIDI file: data byte must be in range 0..127\n"
     ]
    },
    {
     "name": "stderr",
     "output_type": "stream",
     "text": [
      "Processing MIDI files:  85%|████████▍ | 14610/17256 [28:31<03:33, 12.38it/s]"
     ]
    },
    {
     "name": "stdout",
     "output_type": "stream",
     "text": [
      "Error processing MIDI file: data byte must be in range 0..127\n"
     ]
    },
    {
     "name": "stderr",
     "output_type": "stream",
     "text": [
      "Processing MIDI files:  85%|████████▍ | 14628/17256 [28:33<03:33, 12.33it/s]"
     ]
    },
    {
     "name": "stdout",
     "output_type": "stream",
     "text": [
      "Error processing MIDI file: data byte must be in range 0..127\n"
     ]
    },
    {
     "name": "stderr",
     "output_type": "stream",
     "text": [
      "Processing MIDI files:  86%|████████▌ | 14778/17256 [28:46<03:25, 12.08it/s]"
     ]
    },
    {
     "name": "stdout",
     "output_type": "stream",
     "text": [
      "Error processing MIDI file: data byte must be in range 0..127\n"
     ]
    },
    {
     "name": "stderr",
     "output_type": "stream",
     "text": [
      "Processing MIDI files:  86%|████████▋ | 14885/17256 [28:54<04:24,  8.98it/s]"
     ]
    },
    {
     "name": "stdout",
     "output_type": "stream",
     "text": [
      "Error processing MIDI file: data byte must be in range 0..127\n"
     ]
    },
    {
     "name": "stderr",
     "output_type": "stream",
     "text": [
      "Processing MIDI files:  87%|████████▋ | 15010/17256 [29:08<03:58,  9.44it/s]"
     ]
    },
    {
     "name": "stdout",
     "output_type": "stream",
     "text": [
      "Error processing MIDI file: data byte must be in range 0..127\n"
     ]
    },
    {
     "name": "stderr",
     "output_type": "stream",
     "text": [
      "Processing MIDI files:  87%|████████▋ | 15056/17256 [29:15<04:14,  8.66it/s]"
     ]
    },
    {
     "name": "stdout",
     "output_type": "stream",
     "text": [
      "Error processing MIDI file: MThd not found. Probably not a MIDI file\n"
     ]
    },
    {
     "name": "stderr",
     "output_type": "stream",
     "text": [
      "Processing MIDI files:  88%|████████▊ | 15178/17256 [29:30<02:50, 12.21it/s]"
     ]
    },
    {
     "name": "stdout",
     "output_type": "stream",
     "text": [
      "Error processing MIDI file: \n"
     ]
    },
    {
     "name": "stderr",
     "output_type": "stream",
     "text": [
      "Processing MIDI files:  88%|████████▊ | 15196/17256 [29:32<02:48, 12.26it/s]"
     ]
    },
    {
     "name": "stdout",
     "output_type": "stream",
     "text": [
      "Error processing MIDI file: data byte must be in range 0..127\n"
     ]
    },
    {
     "name": "stderr",
     "output_type": "stream",
     "text": [
      "Processing MIDI files:  88%|████████▊ | 15253/17256 [29:37<03:05, 10.79it/s]"
     ]
    },
    {
     "name": "stdout",
     "output_type": "stream",
     "text": [
      "Error processing MIDI file: data byte must be in range 0..127\n"
     ]
    },
    {
     "name": "stderr",
     "output_type": "stream",
     "text": [
      "Processing MIDI files:  88%|████████▊ | 15260/17256 [29:38<02:54, 11.46it/s]"
     ]
    },
    {
     "name": "stdout",
     "output_type": "stream",
     "text": [
      "Error processing MIDI file: data byte must be in range 0..127\n"
     ]
    },
    {
     "name": "stderr",
     "output_type": "stream",
     "text": [
      "Processing MIDI files:  89%|████████▉ | 15341/17256 [29:48<03:38,  8.75it/s]"
     ]
    },
    {
     "name": "stdout",
     "output_type": "stream",
     "text": [
      "Error processing MIDI file: data byte must be in range 0..127\n"
     ]
    },
    {
     "name": "stderr",
     "output_type": "stream",
     "text": [
      "Processing MIDI files:  89%|████████▉ | 15342/17256 [29:48<04:04,  7.83it/s]"
     ]
    },
    {
     "name": "stdout",
     "output_type": "stream",
     "text": [
      "Error processing MIDI file: data byte must be in range 0..127\n"
     ]
    },
    {
     "name": "stderr",
     "output_type": "stream",
     "text": [
      "Processing MIDI files:  90%|████████▉ | 15466/17256 [30:02<04:14,  7.03it/s]"
     ]
    },
    {
     "name": "stdout",
     "output_type": "stream",
     "text": [
      "Error processing MIDI file: MIDI file has a largest tick of 196929468, it is likely corrupt\n"
     ]
    },
    {
     "name": "stderr",
     "output_type": "stream",
     "text": [
      "Processing MIDI files:  90%|████████▉ | 15474/17256 [30:03<03:17,  9.03it/s]"
     ]
    },
    {
     "name": "stdout",
     "output_type": "stream",
     "text": [
      "Error processing MIDI file: MThd not found. Probably not a MIDI file\n"
     ]
    },
    {
     "name": "stderr",
     "output_type": "stream",
     "text": [
      "Processing MIDI files:  90%|████████▉ | 15488/17256 [30:04<03:02,  9.68it/s]"
     ]
    },
    {
     "name": "stdout",
     "output_type": "stream",
     "text": [
      "Error processing MIDI file: data byte must be in range 0..127\n"
     ]
    },
    {
     "name": "stderr",
     "output_type": "stream",
     "text": [
      "Processing MIDI files:  90%|████████▉ | 15500/17256 [30:05<02:20, 12.52it/s]"
     ]
    },
    {
     "name": "stdout",
     "output_type": "stream",
     "text": [
      "Error processing MIDI file: data byte must be in range 0..127\n"
     ]
    },
    {
     "name": "stderr",
     "output_type": "stream",
     "text": [
      "Processing MIDI files:  90%|█████████ | 15560/17256 [30:13<03:18,  8.56it/s]"
     ]
    },
    {
     "name": "stdout",
     "output_type": "stream",
     "text": [
      "Error processing MIDI file: data byte must be in range 0..127\n"
     ]
    },
    {
     "name": "stderr",
     "output_type": "stream",
     "text": [
      "Processing MIDI files:  90%|█████████ | 15577/17256 [30:15<03:57,  7.07it/s]"
     ]
    },
    {
     "name": "stdout",
     "output_type": "stream",
     "text": [
      "Error processing MIDI file: Message length 2093056 exceeds maximum length 1000000\n"
     ]
    },
    {
     "name": "stderr",
     "output_type": "stream",
     "text": [
      "Processing MIDI files:  90%|█████████ | 15616/17256 [30:20<03:22,  8.11it/s]"
     ]
    },
    {
     "name": "stdout",
     "output_type": "stream",
     "text": [
      "Error processing MIDI file: data byte must be in range 0..127\n"
     ]
    },
    {
     "name": "stderr",
     "output_type": "stream",
     "text": [
      "Processing MIDI files:  91%|█████████ | 15626/17256 [30:22<04:08,  6.57it/s]"
     ]
    },
    {
     "name": "stdout",
     "output_type": "stream",
     "text": [
      "Error processing MIDI file: data byte must be in range 0..127\n"
     ]
    },
    {
     "name": "stderr",
     "output_type": "stream",
     "text": [
      "Processing MIDI files:  91%|█████████▏| 15757/17256 [30:39<03:22,  7.41it/s]"
     ]
    },
    {
     "name": "stdout",
     "output_type": "stream",
     "text": [
      "Error processing MIDI file: \n"
     ]
    },
    {
     "name": "stderr",
     "output_type": "stream",
     "text": [
      "Processing MIDI files:  92%|█████████▏| 15825/17256 [30:47<02:19, 10.28it/s]"
     ]
    },
    {
     "name": "stdout",
     "output_type": "stream",
     "text": [
      "Error processing MIDI file: data byte must be in range 0..127\n"
     ]
    },
    {
     "name": "stderr",
     "output_type": "stream",
     "text": [
      "Processing MIDI files:  92%|█████████▏| 15879/17256 [30:53<01:44, 13.12it/s]"
     ]
    },
    {
     "name": "stdout",
     "output_type": "stream",
     "text": [
      "Error processing MIDI file: data byte must be in range 0..127\n"
     ]
    },
    {
     "name": "stderr",
     "output_type": "stream",
     "text": [
      "Processing MIDI files:  93%|█████████▎| 16018/17256 [31:09<01:41, 12.20it/s]"
     ]
    },
    {
     "name": "stdout",
     "output_type": "stream",
     "text": [
      "Error processing MIDI file: Could not decode key with 11 sharps and mode 227\n"
     ]
    },
    {
     "name": "stderr",
     "output_type": "stream",
     "text": [
      "Processing MIDI files:  93%|█████████▎| 16031/17256 [31:10<01:26, 14.18it/s]"
     ]
    },
    {
     "name": "stdout",
     "output_type": "stream",
     "text": [
      "Error processing MIDI file: MThd not found. Probably not a MIDI file\n",
      "Error processing MIDI file: MThd not found. Probably not a MIDI file\n"
     ]
    },
    {
     "name": "stderr",
     "output_type": "stream",
     "text": [
      "Processing MIDI files:  93%|█████████▎| 16112/17256 [31:19<01:44, 10.91it/s]"
     ]
    },
    {
     "name": "stdout",
     "output_type": "stream",
     "text": [
      "Error processing MIDI file: data byte must be in range 0..127\n"
     ]
    },
    {
     "name": "stderr",
     "output_type": "stream",
     "text": [
      "Processing MIDI files:  94%|█████████▍| 16191/17256 [31:27<01:43, 10.33it/s]"
     ]
    },
    {
     "name": "stdout",
     "output_type": "stream",
     "text": [
      "Error processing MIDI file: MThd not found. Probably not a MIDI file\n"
     ]
    },
    {
     "name": "stderr",
     "output_type": "stream",
     "text": [
      "Processing MIDI files:  94%|█████████▍| 16225/17256 [31:32<02:03,  8.35it/s]"
     ]
    },
    {
     "name": "stdout",
     "output_type": "stream",
     "text": [
      "Error processing MIDI file: Could not decode key with 3 flats and mode 255\n"
     ]
    },
    {
     "name": "stderr",
     "output_type": "stream",
     "text": [
      "Processing MIDI files:  95%|█████████▍| 16324/17256 [31:45<02:02,  7.60it/s]"
     ]
    },
    {
     "name": "stdout",
     "output_type": "stream",
     "text": [
      "Error processing MIDI file: data byte must be in range 0..127\n"
     ]
    },
    {
     "name": "stderr",
     "output_type": "stream",
     "text": [
      "Processing MIDI files:  95%|█████████▌| 16448/17256 [32:02<01:21,  9.88it/s]"
     ]
    },
    {
     "name": "stdout",
     "output_type": "stream",
     "text": [
      "Error processing MIDI file: MThd not found. Probably not a MIDI file\n"
     ]
    },
    {
     "name": "stderr",
     "output_type": "stream",
     "text": [
      "Processing MIDI files:  95%|█████████▌| 16456/17256 [32:04<02:23,  5.57it/s]"
     ]
    },
    {
     "name": "stdout",
     "output_type": "stream",
     "text": [
      "Error processing MIDI file: data byte must be in range 0..127\n"
     ]
    },
    {
     "name": "stderr",
     "output_type": "stream",
     "text": [
      "Processing MIDI files:  96%|█████████▌| 16487/17256 [32:08<01:35,  8.08it/s]"
     ]
    },
    {
     "name": "stdout",
     "output_type": "stream",
     "text": [
      "Error processing MIDI file: data byte must be in range 0..127\n"
     ]
    },
    {
     "name": "stderr",
     "output_type": "stream",
     "text": [
      "Processing MIDI files:  96%|█████████▌| 16511/17256 [32:11<01:31,  8.15it/s]"
     ]
    },
    {
     "name": "stdout",
     "output_type": "stream",
     "text": [
      "Error processing MIDI file: data byte must be in range 0..127\n"
     ]
    },
    {
     "name": "stderr",
     "output_type": "stream",
     "text": [
      "Processing MIDI files:  96%|█████████▌| 16547/17256 [32:15<01:23,  8.47it/s]"
     ]
    },
    {
     "name": "stdout",
     "output_type": "stream",
     "text": [
      "Error processing MIDI file: data byte must be in range 0..127\n"
     ]
    },
    {
     "name": "stderr",
     "output_type": "stream",
     "text": [
      "Processing MIDI files:  96%|█████████▌| 16558/17256 [32:16<00:59, 11.74it/s]"
     ]
    },
    {
     "name": "stdout",
     "output_type": "stream",
     "text": [
      "Error processing MIDI file: \n"
     ]
    },
    {
     "name": "stderr",
     "output_type": "stream",
     "text": [
      "Processing MIDI files:  96%|█████████▌| 16563/17256 [32:16<00:58, 11.93it/s]"
     ]
    },
    {
     "name": "stdout",
     "output_type": "stream",
     "text": [
      "Error processing MIDI file: data byte must be in range 0..127\n"
     ]
    },
    {
     "name": "stderr",
     "output_type": "stream",
     "text": [
      "Processing MIDI files:  96%|█████████▋| 16616/17256 [32:23<01:04,  9.91it/s]"
     ]
    },
    {
     "name": "stdout",
     "output_type": "stream",
     "text": [
      "Error processing MIDI file: data byte must be in range 0..127\n"
     ]
    },
    {
     "name": "stderr",
     "output_type": "stream",
     "text": [
      "Processing MIDI files:  97%|█████████▋| 16756/17256 [32:40<01:09,  7.19it/s]"
     ]
    },
    {
     "name": "stdout",
     "output_type": "stream",
     "text": [
      "Error processing MIDI file: data byte must be in range 0..127\n"
     ]
    },
    {
     "name": "stderr",
     "output_type": "stream",
     "text": [
      "Processing MIDI files:  98%|█████████▊| 16827/17256 [32:49<00:48,  8.93it/s]"
     ]
    },
    {
     "name": "stdout",
     "output_type": "stream",
     "text": [
      "Error processing MIDI file: data byte must be in range 0..127\n"
     ]
    },
    {
     "name": "stderr",
     "output_type": "stream",
     "text": [
      "Processing MIDI files:  98%|█████████▊| 16843/17256 [32:51<00:46,  8.83it/s]"
     ]
    },
    {
     "name": "stdout",
     "output_type": "stream",
     "text": [
      "Error processing MIDI file: data byte must be in range 0..127\n"
     ]
    },
    {
     "name": "stderr",
     "output_type": "stream",
     "text": [
      "Processing MIDI files:  98%|█████████▊| 16930/17256 [33:03<00:56,  5.82it/s]"
     ]
    },
    {
     "name": "stdout",
     "output_type": "stream",
     "text": [
      "Error processing MIDI file: data byte must be in range 0..127\n"
     ]
    },
    {
     "name": "stderr",
     "output_type": "stream",
     "text": [
      "Processing MIDI files:  98%|█████████▊| 16968/17256 [33:08<00:35,  8.01it/s]"
     ]
    },
    {
     "name": "stdout",
     "output_type": "stream",
     "text": [
      "Error processing MIDI file: data byte must be in range 0..127\n"
     ]
    },
    {
     "name": "stderr",
     "output_type": "stream",
     "text": [
      "Processing MIDI files:  98%|█████████▊| 16990/17256 [33:11<00:25, 10.56it/s]"
     ]
    },
    {
     "name": "stdout",
     "output_type": "stream",
     "text": [
      "Error processing MIDI file: data byte must be in range 0..127\n",
      "Error processing MIDI file: data byte must be in range 0..127\n"
     ]
    },
    {
     "name": "stderr",
     "output_type": "stream",
     "text": [
      "Processing MIDI files:  98%|█████████▊| 16996/17256 [33:11<00:15, 16.55it/s]"
     ]
    },
    {
     "name": "stdout",
     "output_type": "stream",
     "text": [
      "Error processing MIDI file: data byte must be in range 0..127\n",
      "Error processing MIDI file: running status without last_status\n",
      "Error processing MIDI file: data byte must be in range 0..127\n"
     ]
    },
    {
     "name": "stderr",
     "output_type": "stream",
     "text": [
      "Processing MIDI files:  99%|█████████▊| 17003/17256 [33:12<00:22, 11.24it/s]"
     ]
    },
    {
     "name": "stdout",
     "output_type": "stream",
     "text": [
      "Error processing MIDI file: data byte must be in range 0..127\n"
     ]
    },
    {
     "name": "stderr",
     "output_type": "stream",
     "text": [
      "Processing MIDI files: 100%|██████████| 17256/17256 [33:46<00:00,  8.52it/s]"
     ]
    },
    {
     "name": "stdout",
     "output_type": "stream",
     "text": [
      "\n",
      "Total files analyzed: 17256\n",
      "Files in 4/4: 13458 (78.0%)\n",
      "Results saved to valid_midi_files.pickle\n"
     ]
    },
    {
     "name": "stderr",
     "output_type": "stream",
     "text": [
      "\n"
     ]
    }
   ],
   "source": [
    "valid_files = analyze_time_signatures(clean_midi_path, verbose=False)"
   ]
  },
  {
   "cell_type": "markdown",
   "metadata": {},
   "source": [
    "Check how many files were selected"
   ]
  },
  {
   "cell_type": "code",
   "execution_count": 7,
   "metadata": {},
   "outputs": [],
   "source": [
    "def analyze_dataset_stats(pickle_path: str,\n",
    "                         base_dir: str,\n",
    "                         file_ext: str = '.mid',\n",
    "                         name_pattern: str = None) -> dict:\n",
    "    \"\"\"\n",
    "    Compare pickle list length with total files in directory.\n",
    "    \n",
    "    Args:\n",
    "        pickle_path: Path to pickle file containing filtered list\n",
    "        base_dir: Root directory containing all files\n",
    "        file_ext: File extension to count (default: '.mid')\n",
    "        name_pattern: Optional regex pattern for file names\n",
    "    \n",
    "    Returns:\n",
    "        dict: Statistics including total files, filtered files, percentage\n",
    "    \"\"\"\n",
    "    \n",
    "    # Load filtered files list\n",
    "    with open(pickle_path, 'rb') as f:\n",
    "        filtered_files = pickle.load(f)\n",
    "    \n",
    "    # Count total matching files\n",
    "    total_files = 0\n",
    "    for root, _, files in os.walk(base_dir):\n",
    "        if name_pattern:\n",
    "            files = [f for f in files if re.search(name_pattern, f)]\n",
    "        matching_files = [f for f in files if f.lower().endswith(file_ext)]\n",
    "        total_files += len(matching_files)\n",
    "    \n",
    "    # Calculate statistics\n",
    "    stats = {\n",
    "        'total_files': total_files,\n",
    "        'filtered_files': len(filtered_files),\n",
    "        'percentage': (len(filtered_files)/total_files*100 if total_files > 0 else 0)\n",
    "    }\n",
    "    \n",
    "    # Print results\n",
    "    print(f\"Dataset Statistics:\")\n",
    "    print(f\"Total files: {stats['total_files']}\")\n",
    "    print(f\"Filtered files: {stats['filtered_files']}\")\n",
    "    print(f\"Percentage: {stats['percentage']:.1f}%\")\n",
    "    \n",
    "    return stats"
   ]
  },
  {
   "cell_type": "code",
   "execution_count": 8,
   "metadata": {},
   "outputs": [
    {
     "name": "stdout",
     "output_type": "stream",
     "text": [
      "Dataset Statistics:\n",
      "Total files: 17256\n",
      "Filtered files: 13458\n",
      "Percentage: 78.0%\n"
     ]
    }
   ],
   "source": [
    "stats_44 = analyze_dataset_stats('valid_midi_files.pickle', clean_midi_path)"
   ]
  },
  {
   "cell_type": "markdown",
   "metadata": {},
   "source": [
    "## Select all MIDI files with valid melody and chord tracks"
   ]
  },
  {
   "cell_type": "markdown",
   "metadata": {},
   "source": [
    "The code processes MIDI files using a two-step approach:\n",
    "\n",
    "1. **Melody Track Detection:**\n",
    "\n",
    "    - Uses track names to identify melody/vocal tracks\n",
    "    - Looks for keywords like \"vocal\", \"lead\", \"melody\", \"voice\", \"sing\"\n",
    "    - Excludes backup vocals using patterns like \"backup\", \"bgv\"\n",
    "2. **Chord Track Detection:**\n",
    "\n",
    "    - Analyzes each non-melody track for chord patterns\n",
    "    - Looks for groups of 3-4 notes played simultaneously\n",
    "    - Calculates chord density (amount of three/four-note combinations)\n",
    "    - Selects track with highest density of valid chords\n",
    "    - Requires minimum chord density threshold"
   ]
  },
  {
   "cell_type": "code",
   "execution_count": 9,
   "metadata": {},
   "outputs": [],
   "source": [
    "def get_melody_track_by_name(midi_file: str, verbose: bool = False) -> Optional[int]:\n",
    "    \"\"\"Find melody track index based on track names.\"\"\"\n",
    "    melody_patterns = [\n",
    "        r'vocal(?!.*back)',  # Vocals but not backup vocals\n",
    "        r'\\b(lead)\\b',       # Lead\n",
    "        r'melody',           # Melody\n",
    "        r'\\b(voice)\\b',      # Voice\n",
    "        r'sing',            # Sing\n",
    "        r'vocals(?!.*back)'  # Explicit vocals pattern (not backup)\n",
    "    ]\n",
    "    \n",
    "    exclude_patterns = [\n",
    "        r'backup.*vocal',\n",
    "        r'back.*vocal',\n",
    "        r'bgv',\n",
    "        r'backing.*vox',\n",
    "        r'oohs'\n",
    "    ]\n",
    "    \n",
    "    midi_data = pretty_midi.PrettyMIDI(midi_file)\n",
    "    \n",
    "    if verbose:\n",
    "        print(\"Available tracks:\")\n",
    "        for i, instrument in enumerate(midi_data.instruments):\n",
    "            print(f\"Track {i}: {instrument.name}\")\n",
    "    \n",
    "    for i, instrument in enumerate(midi_data.instruments):\n",
    "        if not instrument.name:\n",
    "            continue\n",
    "            \n",
    "        name = instrument.name.lower()\n",
    "        if verbose:\n",
    "            print(f\"Checking track {i}: {name}\")\n",
    "        \n",
    "        if any(re.search(pattern, name) for pattern in exclude_patterns):\n",
    "            if verbose:\n",
    "                print(f\"Skipping backup vocal track: {name}\")\n",
    "            continue\n",
    "        \n",
    "        for pattern in melody_patterns:\n",
    "            if re.search(pattern, name):\n",
    "                if verbose:\n",
    "                    print(f\"Found match: {pattern} in {name}\")\n",
    "                return i\n",
    "    \n",
    "    if verbose:\n",
    "        print(\"No melody track found\")\n",
    "    return None\n",
    "\n",
    "def get_chord_track(midi_file: str,\n",
    "                   melody_idx: Optional[int] = None,\n",
    "                   min_density: float = 0.3,\n",
    "                   verbose: bool = False) -> Optional[int]:\n",
    "    \"\"\"Find track with highest density of three or four-note chords.\"\"\"\n",
    "    midi_data = pretty_midi.PrettyMIDI(midi_file)\n",
    "    best_score = 0.0\n",
    "    best_idx = None\n",
    "    \n",
    "    for i, track in enumerate(midi_data.instruments):\n",
    "        if track.is_drum or i == melody_idx or not track.notes:\n",
    "            continue\n",
    "            \n",
    "        chord_times = {}\n",
    "        for note in track.notes:\n",
    "            start = round(note.start, 2)\n",
    "            if start not in chord_times:\n",
    "                chord_times[start] = {'notes': [], 'duration': note.end - note.start}\n",
    "            else:\n",
    "                chord_times[start]['duration'] = max(chord_times[start]['duration'], \n",
    "                                                   note.end - note.start)\n",
    "            chord_times[start]['notes'].append(note.pitch)\n",
    "        \n",
    "        total_chord_time = sum(data['duration'] \n",
    "                             for data in chord_times.values() \n",
    "                             if len(data['notes']) in [3, 4])\n",
    "        \n",
    "        track_duration = track.notes[-1].end - track.notes[0].start\n",
    "        density = total_chord_time / track_duration if track_duration > 0 else 0.0\n",
    "        \n",
    "        if verbose:\n",
    "            print(f\"Track {i}: {total_chord_time:.2f}s of chords, density: {density:.2f}\")\n",
    "        \n",
    "        if density > best_score:\n",
    "            best_score = density\n",
    "            best_idx = i\n",
    "    \n",
    "    if best_score < min_density:\n",
    "        if verbose:\n",
    "            print(\"No chord track found\")\n",
    "        return None\n",
    "        \n",
    "    if verbose and best_idx is not None:\n",
    "        print(f\"Selected chord track {best_idx}\")\n",
    "    \n",
    "    return best_idx"
   ]
  },
  {
   "cell_type": "code",
   "execution_count": 10,
   "metadata": {},
   "outputs": [],
   "source": [
    "def find_melody_chord_files(pickle_path: str = 'valid_midi_files.pickle',\n",
    "                          verbose: bool = True) -> tuple:\n",
    "    \"\"\"\n",
    "    Check files from pickle for melody and chord tracks.\n",
    "    Returns tuple of (valid files list, track indices list).\n",
    "    \"\"\"\n",
    "    \n",
    "    # Load valid 4/4 files\n",
    "    with open(pickle_path, 'rb') as f:\n",
    "        midi_files = pickle.load(f)\n",
    "    \n",
    "    valid_files = []\n",
    "    track_indices = []\n",
    "    total = len(midi_files)\n",
    "    \n",
    "    # Process each file\n",
    "    for midi_file in tqdm(midi_files, desc=\"Analyzing files\"):\n",
    "        try:\n",
    "            # Check for melody and chord tracks\n",
    "            melody_idx = get_melody_track_by_name(midi_file['path'], verbose=False)\n",
    "            if melody_idx is not None:\n",
    "                chord_idx = get_chord_track(midi_file['path'], melody_idx, verbose=False)\n",
    "                if chord_idx is not None:\n",
    "                    valid_files.append(midi_file)\n",
    "                    track_indices.append({\n",
    "                        'path': midi_file['path'],\n",
    "                        'melody_idx': melody_idx,\n",
    "                        'chord_idx': chord_idx\n",
    "                    })\n",
    "        except Exception as e:\n",
    "            if verbose:\n",
    "                print(f\"Error processing {midi_file['path']}: {e}\")\n",
    "            continue\n",
    "    \n",
    "    # Save results\n",
    "    with open('melody_chord_files.pickle', 'wb') as f:\n",
    "        pickle.dump(valid_files, f)\n",
    "    \n",
    "    with open('track_indices.pickle', 'wb') as f:\n",
    "        pickle.dump(track_indices, f)\n",
    "    \n",
    "    # Print statistics\n",
    "    if verbose:\n",
    "        print(f\"\\nTotal files analyzed: {total}\")\n",
    "        print(f\"Files with melody and chords: {len(valid_files)}\")\n",
    "        print(f\"Success rate: {len(valid_files)/total*100:.1f}%\")\n",
    "        print(\"Results saved to melody_chord_files.pickle and track_indices.pickle\")\n",
    "    \n",
    "    return valid_files, track_indices"
   ]
  },
  {
   "cell_type": "code",
   "execution_count": 11,
   "metadata": {},
   "outputs": [
    {
     "name": "stderr",
     "output_type": "stream",
     "text": [
      "Analyzing files: 100%|██████████| 13458/13458 [36:54<00:00,  6.08it/s] \n"
     ]
    },
    {
     "name": "stdout",
     "output_type": "stream",
     "text": [
      "\n",
      "Total files analyzed: 13458\n",
      "Files with melody and chords: 2895\n",
      "Success rate: 21.5%\n",
      "Results saved to melody_chord_files.pickle and track_indices.pickle\n"
     ]
    }
   ],
   "source": [
    "valid_files, track_indices = find_melody_chord_files()"
   ]
  },
  {
   "cell_type": "markdown",
   "metadata": {},
   "source": [
    "## Export 8-Bar MIDI Segments with Melody and One Chord Per Bar"
   ]
  },
  {
   "cell_type": "markdown",
   "metadata": {},
   "source": [
    "1. **Chord Analysis**\n",
    "   - Define all possible major/minor triads (C-B)\n",
    "   - For each bar, analyze simultaneous notes\n",
    "   - Identify most prominent triad as the bar's chord\n",
    "   - Convert chord to 13-bit vector encoding\n",
    "\n",
    "2. **Segment Creation**\n",
    "   - Split song into 8-bar chunks\n",
    "   - Extract melody notes within segment\n",
    "   - Verify chord progression (one chord per bar)\n",
    "   - Create clean MIDI with isolated melody and chords\n",
    "\n",
    "3. **Data Storage**\n",
    "   - Save segmented MIDI files\n",
    "   - Store chord vectors as numpy arrays\n",
    "   - Preserve original timing and bar structure"
   ]
  },
  {
   "cell_type": "code",
   "execution_count": 12,
   "metadata": {},
   "outputs": [],
   "source": [
    "def process_songs_to_segments(melody_chord_pickle: str = 'melody_chord_files.pickle',\n",
    "                            indices_pickle: str = 'track_indices.pickle',\n",
    "                            output_dir: str = 'chord_segments',\n",
    "                            matrix_dir: str = 'matrix_data_only_chords') -> dict:\n",
    "    \"\"\"Process songs into 8-bar segments and save chord matrices.\"\"\"\n",
    "    \n",
    "    def get_basic_triads():\n",
    "        \"\"\"Generate major and minor triads.\"\"\"\n",
    "        triads = {}\n",
    "        for root in range(12):\n",
    "            major = {(root + i) % 12 for i in [0, 4, 7]}\n",
    "            triads[f'{root}_major'] = major\n",
    "            minor = {(root + i) % 12 for i in [0, 3, 7]}\n",
    "            triads[f'{root}_minor'] = minor\n",
    "        return triads\n",
    "    \n",
    "    def chord_to_vector(chord_name):\n",
    "        \"\"\"Convert chord name to one-hot vector.\"\"\"\n",
    "        root, quality = chord_name.split('_')\n",
    "        root = int(root)\n",
    "        vector = np.zeros(13)\n",
    "        if quality == 'major':\n",
    "            vector[root] = 1  # C=0 to B=11\n",
    "        else:  # minor\n",
    "            minor_map = {9:0, 10:1, 11:2, 0:3, 1:4, 2:5, \n",
    "                        3:6, 4:7, 5:8, 6:9, 7:10, 8:11}\n",
    "            vector[minor_map[root]] = 1\n",
    "            vector[12] = 1  # Minor flag\n",
    "        return vector\n",
    "    \n",
    "    def identify_chord(notes, triads):\n",
    "        \"\"\"Find if notes contain a basic triad.\"\"\"\n",
    "        pitch_classes = {note % 12 for note in notes}\n",
    "        for name, triad in triads.items():\n",
    "            if triad.issubset(pitch_classes):\n",
    "                return name\n",
    "        return None\n",
    "    \n",
    "    def analyze_bar(notes, bar_start, bar_end, triads):\n",
    "        \"\"\"Analyze notes within bar boundaries for single chord.\"\"\"\n",
    "        note_groups = {}\n",
    "        for note in notes:\n",
    "            if bar_start <= note.start < bar_end:\n",
    "                group_time = round(note.start, 3)\n",
    "                if group_time not in note_groups:\n",
    "                    note_groups[group_time] = []\n",
    "                note_groups[group_time].append(note.pitch)\n",
    "        \n",
    "        found_chords = set()\n",
    "        for group in note_groups.values():\n",
    "            if len(group) >= 3:\n",
    "                chord = identify_chord(group, triads)\n",
    "                if chord:\n",
    "                    found_chords.add(chord)\n",
    "        \n",
    "        return list(found_chords)[0] if len(found_chords) == 1 else None\n",
    "    \n",
    "    def process_segment(midi_data, melody_track, chord_track, downbeats, start_idx, triads):\n",
    "        \"\"\"Process segment and create chord vectors.\"\"\"\n",
    "        if start_idx + 8 >= len(downbeats):\n",
    "            return None, None, None\n",
    "        \n",
    "        # Get bar boundaries\n",
    "        bar_starts = downbeats[start_idx:start_idx + 8]\n",
    "        bar_ends = downbeats[start_idx + 1:start_idx + 9]\n",
    "        segment_start = bar_starts[0]\n",
    "        segment_end = bar_ends[-1]\n",
    "        bar_duration = bar_ends[0] - bar_starts[0]\n",
    "        \n",
    "        # Analyze bars and create vectors\n",
    "        chord_progression = []\n",
    "        chord_vectors = []\n",
    "        for bar_start, bar_end in zip(bar_starts, bar_ends):\n",
    "            chord = analyze_bar(chord_track.notes, bar_start, bar_end, triads)\n",
    "            if not chord:\n",
    "                return None, None, None\n",
    "            chord_progression.append(chord)\n",
    "            chord_vectors.append(chord_to_vector(chord))\n",
    "        \n",
    "        # Create segment\n",
    "        segment = pretty_midi.PrettyMIDI(initial_tempo=midi_data.estimate_tempo())\n",
    "        \n",
    "        # Add melody\n",
    "        clean_melody = pretty_midi.Instrument(program=melody_track.program)\n",
    "        for note in melody_track.notes:\n",
    "            if segment_start <= note.start < segment_end:\n",
    "                clean_melody.notes.append(pretty_midi.Note(\n",
    "                    velocity=note.velocity,\n",
    "                    pitch=note.pitch,\n",
    "                    start=note.start - segment_start,\n",
    "                    end=min(note.end - segment_start, segment_end - segment_start)\n",
    "                ))\n",
    "        segment.instruments.append(clean_melody)\n",
    "        \n",
    "        # Add chords\n",
    "        clean_chords = pretty_midi.Instrument(program=0)\n",
    "        for bar, chord_name in enumerate(chord_progression):\n",
    "            root, quality = chord_name.split('_')\n",
    "            root = int(root)\n",
    "            intervals = [0, 4, 7] if quality == 'major' else [0, 3, 7]\n",
    "            \n",
    "            for interval in intervals:\n",
    "                note = pretty_midi.Note(\n",
    "                    velocity=100,\n",
    "                    pitch=48 + root + interval,  # C3 base\n",
    "                    start=bar * bar_duration,\n",
    "                    end=(bar + 1) * bar_duration\n",
    "                )\n",
    "                clean_chords.notes.append(note)\n",
    "        \n",
    "        segment.instruments.append(clean_chords)\n",
    "        return segment, chord_progression, np.array(chord_vectors)\n",
    "    \n",
    "    # Main processing\n",
    "    os.makedirs(output_dir, exist_ok=True)\n",
    "    os.makedirs(matrix_dir, exist_ok=True)\n",
    "    triads = get_basic_triads()\n",
    "    stats = {'total_files': 0, 'segments_found': 0}\n",
    "    \n",
    "    with open(melody_chord_pickle, 'rb') as f:\n",
    "        valid_files = pickle.load(f)\n",
    "    with open(indices_pickle, 'rb') as f:\n",
    "        track_indices = pickle.load(f)\n",
    "    \n",
    "    for file_info, track_info in tqdm(zip(valid_files, track_indices)):\n",
    "        try:\n",
    "            midi_data = pretty_midi.PrettyMIDI(track_info['path'])\n",
    "            melody_track = midi_data.instruments[track_info['melody_idx']]\n",
    "            chord_track = midi_data.instruments[track_info['chord_idx']]\n",
    "            \n",
    "            downbeats = midi_data.get_downbeats()\n",
    "            segment_num = 0\n",
    "            \n",
    "            for start_idx in range(0, len(downbeats) - 8, 8):\n",
    "                segment, chords, vectors = process_segment(\n",
    "                    midi_data, melody_track, chord_track,\n",
    "                    downbeats, start_idx, triads\n",
    "                )\n",
    "                \n",
    "                if segment and vectors is not None:\n",
    "                    base_name = os.path.splitext(os.path.basename(file_info['path']))[0]\n",
    "                    # Save MIDI\n",
    "                    out_path = os.path.join(\n",
    "                        output_dir,\n",
    "                        f\"{base_name}_segment{segment_num}.mid\"\n",
    "                    )\n",
    "                    segment.write(out_path)\n",
    "                    \n",
    "                    # Save chord vectors\n",
    "                    matrix_path = os.path.join(\n",
    "                        matrix_dir,\n",
    "                        f\"{base_name}_segment{segment_num}_chords.npy\"\n",
    "                    )\n",
    "                    np.save(matrix_path, vectors)\n",
    "                    \n",
    "                    stats['segments_found'] += 1\n",
    "                    segment_num += 1\n",
    "            \n",
    "            stats['total_files'] += 1\n",
    "            \n",
    "        except Exception as e:\n",
    "            print(f\"Error processing {file_info['path']}: {e}\")\n",
    "            continue\n",
    "    \n",
    "    print(f\"\\nProcessing complete:\")\n",
    "    print(f\"Files processed: {stats['total_files']}\")\n",
    "    print(f\"Valid segments found: {stats['segments_found']}\")\n",
    "    print(f\"Average segments per file: {stats['segments_found']/stats['total_files']:.1f}\")\n",
    "    \n",
    "    return stats"
   ]
  },
  {
   "cell_type": "code",
   "execution_count": 13,
   "metadata": {},
   "outputs": [
    {
     "name": "stderr",
     "output_type": "stream",
     "text": [
      "2895it [06:51,  7.04it/s]"
     ]
    },
    {
     "name": "stdout",
     "output_type": "stream",
     "text": [
      "\n",
      "Processing complete:\n",
      "Files processed: 2895\n",
      "Valid segments found: 1691\n",
      "Average segments per file: 0.6\n"
     ]
    },
    {
     "name": "stderr",
     "output_type": "stream",
     "text": [
      "\n"
     ]
    }
   ],
   "source": [
    "stats = process_songs_to_segments()"
   ]
  },
  {
   "cell_type": "markdown",
   "metadata": {},
   "source": [
    "## Convert MIDI melody segments into matrices (Piano Rolls)"
   ]
  },
  {
   "cell_type": "markdown",
   "metadata": {},
   "source": [
    "This function transforms 8-bar MIDI segments into a piano-roll matrix representation (128x128). The melody track is mapped to a binary matrix where:\n",
    "- Rows represent MIDI pitches (0-127)\n",
    "- Columns represent time steps (16 per bar × 8 bars = 128 steps)\n",
    "- Each note is aligned to the nearest time step using chord onsets as bar markers"
   ]
  },
  {
   "cell_type": "code",
   "execution_count": 14,
   "metadata": {},
   "outputs": [],
   "source": [
    "def convert_segments_to_matrices(\n",
    "    segments_dir: str = 'chord_segments',\n",
    "    output_dir: str = 'matrix_data'\n",
    ") -> dict:\n",
    "    \"\"\"Convert MIDI segments to melody matrices using chord timing.\"\"\"\n",
    "    os.makedirs(output_dir, exist_ok=True)\n",
    "    stats = {'processed': 0, 'success': 0}\n",
    "    \n",
    "    def get_bar_starts(chord_track):\n",
    "        \"\"\"Get start times of each bar from chord track.\"\"\"\n",
    "        # Get unique start times of chord notes\n",
    "        starts = sorted(set(note.start for note in chord_track.notes))\n",
    "        return starts[:8]  # 8 bars per segment\n",
    "    \n",
    "    def create_melody_matrix(melody_notes, bar_starts):\n",
    "        \"\"\"Map melody notes to grid with nearest time step alignment.\"\"\"\n",
    "        matrix = np.zeros((128, 128))\n",
    "        bar_duration = bar_starts[1] - bar_starts[0]\n",
    "        steps_per_bar = 16\n",
    "        step_duration = bar_duration / steps_per_bar\n",
    "        \n",
    "        for note in melody_notes:\n",
    "            # Find start bar and position\n",
    "            start_bar = -1\n",
    "            for i, bar_start in enumerate(bar_starts):\n",
    "                # Check if note starts near this bar\n",
    "                if abs(note.start - bar_start) < step_duration/2:\n",
    "                    # Note starts very close to bar start\n",
    "                    start_bar = i\n",
    "                    rel_start = 0\n",
    "                    break\n",
    "                elif bar_start <= note.start < bar_start + bar_duration:\n",
    "                    # Note starts within bar\n",
    "                    start_bar = i\n",
    "                    # Round to nearest step\n",
    "                    steps_from_start = round((note.start - bar_start) / step_duration)\n",
    "                    rel_start = steps_from_start / steps_per_bar\n",
    "                    break\n",
    "            if start_bar == -1:\n",
    "                continue\n",
    "                \n",
    "            # Find end bar and position\n",
    "            end_bar = -1\n",
    "            for i, bar_start in enumerate(bar_starts):\n",
    "                next_bar_start = bar_starts[i+1] if i < 7 else bar_start + bar_duration\n",
    "                if abs(note.end - next_bar_start) < step_duration/2:\n",
    "                    # Note ends very close to next bar\n",
    "                    end_bar = i\n",
    "                    rel_end = 1.0\n",
    "                    break\n",
    "                elif bar_start <= note.end < next_bar_start:\n",
    "                    # Note ends within bar\n",
    "                    end_bar = i\n",
    "                    # Round to nearest step\n",
    "                    steps_from_start = round((note.end - bar_start) / step_duration)\n",
    "                    rel_end = min(steps_from_start / steps_per_bar, 1.0)\n",
    "                    break\n",
    "            if end_bar == -1:\n",
    "                end_bar = 7\n",
    "                rel_end = 1.0\n",
    "            \n",
    "            # Fill matrix for each spanned bar\n",
    "            for bar in range(start_bar, end_bar + 1):\n",
    "                if bar == start_bar:\n",
    "                    start_step = bar * 16 + int(rel_start * 16)\n",
    "                else:\n",
    "                    start_step = bar * 16\n",
    "                    \n",
    "                if bar == end_bar:\n",
    "                    end_step = bar * 16 + int(rel_end * 16)\n",
    "                else:\n",
    "                    end_step = (bar + 1) * 16\n",
    "                    \n",
    "                if start_step < end_step:\n",
    "                    matrix[note.pitch, start_step:end_step] = 1\n",
    "        \n",
    "        return matrix\n",
    "    \n",
    "    midi_files = [f for f in os.listdir(segments_dir) if f.endswith('.mid')]\n",
    "    \n",
    "    for file in tqdm(midi_files, desc=\"Converting segments\"):\n",
    "        try:\n",
    "            midi_path = os.path.join(segments_dir, file)\n",
    "            midi_data = pretty_midi.PrettyMIDI(midi_path)\n",
    "            \n",
    "            if len(midi_data.instruments) < 2:\n",
    "                continue\n",
    "            \n",
    "            melody_track = midi_data.instruments[0]\n",
    "            chord_track = midi_data.instruments[1]\n",
    "            \n",
    "            # Get bar start times from chord track\n",
    "            bar_starts = get_bar_starts(chord_track)\n",
    "            if len(bar_starts) < 8:\n",
    "                continue\n",
    "            \n",
    "            # Create melody matrix\n",
    "            melody_matrix = create_melody_matrix(melody_track.notes, bar_starts)\n",
    "            \n",
    "            # Save melody matrix\n",
    "            base_name = os.path.splitext(file)[0]\n",
    "            np.save(os.path.join(output_dir, f\"{base_name}_melody.npy\"), melody_matrix)\n",
    "            stats['success'] += 1\n",
    "            stats['processed'] += 1\n",
    "            \n",
    "        except Exception as e:\n",
    "            print(f\"Error processing {file}: {str(e)}\")\n",
    "            continue\n",
    "    \n",
    "    print(f\"\\nConversion complete:\")\n",
    "    print(f\"Files processed: {stats['processed']}\")\n",
    "    print(f\"Successfully converted: {stats['success']}\")\n",
    "    \n",
    "    return stats"
   ]
  },
  {
   "cell_type": "code",
   "execution_count": 15,
   "metadata": {},
   "outputs": [
    {
     "name": "stderr",
     "output_type": "stream",
     "text": [
      "Converting segments: 100%|██████████| 1683/1683 [00:06<00:00, 269.29it/s]"
     ]
    },
    {
     "name": "stdout",
     "output_type": "stream",
     "text": [
      "\n",
      "Conversion complete:\n",
      "Files processed: 1429\n",
      "Successfully converted: 1429\n"
     ]
    },
    {
     "name": "stderr",
     "output_type": "stream",
     "text": [
      "\n"
     ]
    }
   ],
   "source": [
    "stats = convert_segments_to_matrices()"
   ]
  },
  {
   "cell_type": "markdown",
   "metadata": {},
   "source": [
    "## Visualize piano roll"
   ]
  },
  {
   "cell_type": "code",
   "execution_count": 16,
   "metadata": {},
   "outputs": [],
   "source": [
    "def visualize_melody_matrix(matrix_path: str) -> None:\n",
    "    \"\"\"\n",
    "    Visualize a 128x128 melody matrix showing note occurrences.\n",
    "    \n",
    "    Args:\n",
    "        matrix_path: Path to .npy file containing melody matrix\n",
    "    \"\"\"\n",
    "    \n",
    "    # Load matrix\n",
    "    melody_matrix = np.load(matrix_path)\n",
    "    \n",
    "    # Create figure\n",
    "    plt.figure(figsize=(12, 8))\n",
    "    \n",
    "    # Display matrix with inverted y-axis\n",
    "    plt.imshow(melody_matrix, \n",
    "              cmap='RdPu',  # Red-Purple colormap\n",
    "              aspect='equal',\n",
    "              interpolation='nearest',\n",
    "              origin='lower')  # Invert y-axis\n",
    "    \n",
    "    # Add labels\n",
    "    plt.xlabel('Time steps (16 per bar)')\n",
    "    plt.ylabel('MIDI pitch (high to low)')\n",
    "    plt.title('Melody Matrix Visualization')\n",
    "    \n",
    "    # Show grid for bar boundaries\n",
    "    plt.grid(True, alpha=0.3)\n",
    "    \n",
    "    # Add vertical lines for bar boundaries (every 16 steps)\n",
    "    for x in range(0, 128, 16):\n",
    "        plt.axvline(x=x, color='gray', linestyle='--', alpha=0.5)\n",
    "    \n",
    "    plt.tight_layout()\n",
    "    plt.show()"
   ]
  },
  {
   "cell_type": "code",
   "execution_count": 17,
   "metadata": {},
   "outputs": [],
   "source": [
    "def show_random_melody(matrix_dir: str = 'matrix_data'):\n",
    "    \"\"\"\n",
    "    Display random melody matrix from specified folder.\n",
    "    \n",
    "    Args:\n",
    "        matrix_dir: Directory containing melody matrices (default: 'matrix_data')\n",
    "    \"\"\"\n",
    "    \n",
    "    # Get all melody matrix files\n",
    "    melody_files = [f for f in os.listdir(matrix_dir) \n",
    "                   if f.endswith('_melody.npy')]\n",
    "    \n",
    "    if not melody_files:\n",
    "        print(\"No melody matrices found in matrix_data folder\")\n",
    "        return\n",
    "        \n",
    "    # Select random file\n",
    "    random_file = random.choice(melody_files)\n",
    "    matrix_path = os.path.join(matrix_dir, random_file)\n",
    "    \n",
    "    # Display\n",
    "    print(f\"Displaying: {random_file}\")\n",
    "    visualize_melody_matrix(matrix_path)"
   ]
  },
  {
   "cell_type": "code",
   "execution_count": 18,
   "metadata": {},
   "outputs": [
    {
     "name": "stdout",
     "output_type": "stream",
     "text": [
      "Displaying: Under The Boardwalk_segment1_melody.npy\n"
     ]
    },
    {
     "data": {
      "image/png": "[encoded data removed]",
      "text/plain": [
       "<Figure size 1200x800 with 1 Axes>"
      ]
     },
     "metadata": {},
     "output_type": "display_data"
    }
   ],
   "source": [
    "show_random_melody()"
   ]
  },
  {
   "cell_type": "markdown",
   "metadata": {},
   "source": [
    "## Convert Polyphonic Melodies to Monophonic Lines"
   ]
  },
  {
   "cell_type": "markdown",
   "metadata": {},
   "source": [
    "1. **Analysis Phase**\n",
    "   - Calculate polyphony ratio (% of timesteps with multiple notes)\n",
    "   - If highly polyphonic:\n",
    "     - Create pitch histogram\n",
    "     - Find highest significant peak\n",
    "     - Define valid pitch range around peak\n",
    "\n",
    "2. **Conversion Phase**\n",
    "   - Process each timestep:\n",
    "     - If one note: keep it\n",
    "     - If multiple notes within range:\n",
    "       - Keep previous note if present\n",
    "       - Otherwise take highest note\n",
    "     - Skip notes outside range (for highly polyphonic)"
   ]
  },
  {
   "cell_type": "code",
   "execution_count": 19,
   "metadata": {},
   "outputs": [],
   "source": [
    "def convert_polyphonic_to_monophonic(\n",
    "    input_dir: str = 'matrix_data',\n",
    "    output_dir: str = 'monophonic_matrices',\n",
    "    polyphony_threshold: float = 0.5,\n",
    "    min_peak_height: int = 20,\n",
    "    sigma_range: int = 4\n",
    ") -> dict:\n",
    "    \"\"\"Extract highest melody line using two-phase approach.\"\"\"\n",
    "    \n",
    "    os.makedirs(output_dir, exist_ok=True)\n",
    "    stats = {'processed': 0, 'converted': 0}\n",
    "    \n",
    "    def analyze_polyphony(matrix):\n",
    "        \"\"\"Calculate percentage of polyphonic time steps.\"\"\"\n",
    "        polyphonic_steps = 0\n",
    "        total_active_steps = 0\n",
    "        \n",
    "        for t in range(matrix.shape[1]):\n",
    "            active_count = np.sum(matrix[:, t])\n",
    "            if active_count > 0:\n",
    "                total_active_steps += 1\n",
    "                if active_count > 1:\n",
    "                    polyphonic_steps += 1\n",
    "                    \n",
    "        if total_active_steps == 0:\n",
    "            return 0\n",
    "        return polyphonic_steps / total_active_steps\n",
    "    \n",
    "    def find_pitch_range(matrix):\n",
    "        \"\"\"Find pitch range around highest significant peak.\"\"\"\n",
    "        # Create pitch histogram\n",
    "        pitch_counts = np.sum(matrix, axis=1)\n",
    "        \n",
    "        # Find peaks (local maxima)\n",
    "        peaks = []\n",
    "        for p in range(1, 127):\n",
    "            if (pitch_counts[p] > pitch_counts[p-1] and \n",
    "                pitch_counts[p] > pitch_counts[p+1] and \n",
    "                pitch_counts[p] >= min_peak_height):\n",
    "                peaks.append((p, pitch_counts[p]))\n",
    "        \n",
    "        if not peaks:\n",
    "            return None, None\n",
    "            \n",
    "        # Get highest significant peak\n",
    "        peak_pitch = max(peaks, key=lambda x: x[0])[0]\n",
    "        \n",
    "        # Define range around peak\n",
    "        min_pitch = max(0, peak_pitch - sigma_range)\n",
    "        max_pitch = min(127, peak_pitch + sigma_range)\n",
    "        \n",
    "        return min_pitch, max_pitch\n",
    "    \n",
    "    def process_timestep(active_pitches, last_pitch, pitch_range=None):\n",
    "        \"\"\"Process one time step to select single note.\"\"\"\n",
    "        if pitch_range:\n",
    "            min_pitch, max_pitch = pitch_range\n",
    "            active_pitches = active_pitches[\n",
    "                (active_pitches >= min_pitch) & \n",
    "                (active_pitches <= max_pitch)\n",
    "            ]\n",
    "        \n",
    "        if len(active_pitches) == 0:\n",
    "            return None\n",
    "        elif len(active_pitches) == 1:\n",
    "            return active_pitches[0]\n",
    "        elif last_pitch in active_pitches:\n",
    "            return last_pitch\n",
    "        else:\n",
    "            return max(active_pitches)\n",
    "    \n",
    "    melody_files = [f for f in os.listdir(input_dir) \n",
    "                   if f.endswith('_melody.npy')]\n",
    "    \n",
    "    for file in tqdm(melody_files, desc=\"Converting matrices\"):\n",
    "        try:\n",
    "            # Load matrix\n",
    "            matrix_path = os.path.join(input_dir, file)\n",
    "            matrix = np.load(matrix_path)\n",
    "            \n",
    "            # Analyze polyphony\n",
    "            poly_ratio = analyze_polyphony(matrix)\n",
    "            pitch_range = None\n",
    "            \n",
    "            # For highly polyphonic melodies, find pitch range\n",
    "            if poly_ratio > polyphony_threshold:\n",
    "                pitch_range = find_pitch_range(matrix)\n",
    "                if pitch_range is None:\n",
    "                    continue\n",
    "            \n",
    "            # Create monophonic version\n",
    "            mono_matrix = np.zeros_like(matrix)\n",
    "            last_pitch = None\n",
    "            \n",
    "            # Process each time step\n",
    "            for t in range(matrix.shape[1]):\n",
    "                active_pitches = np.where(matrix[:, t] == 1)[0]\n",
    "                chosen_pitch = process_timestep(active_pitches, last_pitch, pitch_range)\n",
    "                \n",
    "                if chosen_pitch is not None:\n",
    "                    mono_matrix[chosen_pitch, t] = 1\n",
    "                    last_pitch = chosen_pitch\n",
    "            \n",
    "            # Save result\n",
    "            output_path = os.path.join(output_dir, file)\n",
    "            np.save(output_path, mono_matrix)\n",
    "            stats['converted'] += 1\n",
    "            \n",
    "        except Exception as e:\n",
    "            print(f\"Error processing {file}: {str(e)}\")\n",
    "            continue\n",
    "            \n",
    "        stats['processed'] += 1\n",
    "    \n",
    "    print(f\"\\nConversion complete:\")\n",
    "    print(f\"Files processed: {stats['processed']}\")\n",
    "    print(f\"Successfully converted: {stats['converted']}\")\n",
    "    \n",
    "    return stats"
   ]
  },
  {
   "cell_type": "code",
   "execution_count": 20,
   "metadata": {},
   "outputs": [
    {
     "name": "stderr",
     "output_type": "stream",
     "text": [
      "Converting matrices:   9%|▊         | 124/1429 [00:00<00:04, 284.77it/s]"
     ]
    },
    {
     "name": "stdout",
     "output_type": "stream",
     "text": [
      "Error processing All My Loving_segment2_melody.npy: '>=' not supported between instances of 'int' and 'NoneType'\n",
      "Error processing And I Love Her.3_segment5_melody.npy: '>=' not supported between instances of 'int' and 'NoneType'\n"
     ]
    },
    {
     "name": "stderr",
     "output_type": "stream",
     "text": [
      "Converting matrices:  19%|█▊        | 267/1429 [00:00<00:04, 266.31it/s]"
     ]
    },
    {
     "name": "stdout",
     "output_type": "stream",
     "text": [
      "Error processing Chantilly Lace_segment3_melody.npy: '>=' not supported between instances of 'int' and 'NoneType'\n",
      "Error processing Davy's on the Road Again_segment0_melody.npy: '>=' not supported between instances of 'int' and 'NoneType'\n",
      "Error processing Day Tripper.4_segment0_melody.npy: '>=' not supported between instances of 'int' and 'NoneType'\n"
     ]
    },
    {
     "name": "stderr",
     "output_type": "stream",
     "text": [
      "Converting matrices:  25%|██▍       | 352/1429 [00:01<00:04, 237.87it/s]"
     ]
    },
    {
     "name": "stdout",
     "output_type": "stream",
     "text": [
      "Error processing Dominated Love Slave_segment1_melody.npy: '>=' not supported between instances of 'int' and 'NoneType'\n"
     ]
    },
    {
     "name": "stderr",
     "output_type": "stream",
     "text": [
      "Converting matrices:  46%|████▌     | 657/1429 [00:02<00:02, 332.14it/s]"
     ]
    },
    {
     "name": "stdout",
     "output_type": "stream",
     "text": [
      "Error processing I'm A Believer_segment1_melody.npy: '>=' not supported between instances of 'int' and 'NoneType'\n",
      "Error processing I'm A Believer_segment2_melody.npy: '>=' not supported between instances of 'int' and 'NoneType'\n",
      "Error processing It's My Life.1_segment2_melody.npy: '>=' not supported between instances of 'int' and 'NoneType'\n"
     ]
    },
    {
     "name": "stderr",
     "output_type": "stream",
     "text": [
      "Converting matrices:  52%|█████▏    | 737/1429 [00:02<00:02, 331.15it/s]"
     ]
    },
    {
     "name": "stdout",
     "output_type": "stream",
     "text": [
      "Error processing Kiss You All Over_segment4_melody.npy: '>=' not supported between instances of 'int' and 'NoneType'\n"
     ]
    },
    {
     "name": "stderr",
     "output_type": "stream",
     "text": [
      "Converting matrices:  80%|████████  | 1144/1429 [00:03<00:00, 398.72it/s]"
     ]
    },
    {
     "name": "stdout",
     "output_type": "stream",
     "text": [
      "Error processing Sleep Together_segment2_melody.npy: '>=' not supported between instances of 'int' and 'NoneType'\n"
     ]
    },
    {
     "name": "stderr",
     "output_type": "stream",
     "text": [
      "Converting matrices:  86%|████████▌ | 1231/1429 [00:03<00:00, 416.03it/s]"
     ]
    },
    {
     "name": "stdout",
     "output_type": "stream",
     "text": [
      "Error processing The First the Last Eternity (Till the End)_segment0_melody.npy: '>=' not supported between instances of 'int' and 'NoneType'\n",
      "Error processing The Night Before.1_segment5_melody.npy: '>=' not supported between instances of 'int' and 'NoneType'\n"
     ]
    },
    {
     "name": "stderr",
     "output_type": "stream",
     "text": [
      "Converting matrices:  92%|█████████▏| 1317/1429 [00:04<00:00, 408.71it/s]"
     ]
    },
    {
     "name": "stdout",
     "output_type": "stream",
     "text": [
      "Error processing Under The Boardwalk_segment4_melody.npy: '>=' not supported between instances of 'int' and 'NoneType'\n",
      "Error processing When the Going Gets Touch, the Touch Get Going.1_segment1_melody.npy: '>=' not supported between instances of 'int' and 'NoneType'\n"
     ]
    },
    {
     "name": "stderr",
     "output_type": "stream",
     "text": [
      "Converting matrices: 100%|██████████| 1429/1429 [00:04<00:00, 322.27it/s]"
     ]
    },
    {
     "name": "stdout",
     "output_type": "stream",
     "text": [
      "Error processing Wings of an Eagle_segment3_melody.npy: '>=' not supported between instances of 'int' and 'NoneType'\n",
      "\n",
      "Conversion complete:\n",
      "Files processed: 1413\n",
      "Successfully converted: 1413\n"
     ]
    },
    {
     "name": "stderr",
     "output_type": "stream",
     "text": [
      "\n"
     ]
    }
   ],
   "source": [
    "stats = convert_polyphonic_to_monophonic()"
   ]
  },
  {
   "cell_type": "markdown",
   "metadata": {},
   "source": [
    "Compare random melody before and after conversion"
   ]
  },
  {
   "cell_type": "code",
   "execution_count": 2,
   "metadata": {},
   "outputs": [],
   "source": [
    "def compare_random_melody(matrix1_dir: str = 'matrix_data', matrix2_dir: str = 'monophonic_matrices'):\n",
    "    \"\"\"Compare random melody before and after a conversion.\"\"\"\n",
    "    \n",
    "    # Get all melody files\n",
    "    melody_files = [f for f in os.listdir(matrix1_dir) \n",
    "                   if f.endswith('_melody.npy')]\n",
    "    \n",
    "    if not melody_files:\n",
    "        print(\"No melody matrices found\")\n",
    "        return\n",
    "    \n",
    "    # Select random file\n",
    "    random_file = random.choice(melody_files)\n",
    "    orig_path = os.path.join(matrix1_dir, random_file)\n",
    "    mono_path = os.path.join(matrix2_dir, random_file)\n",
    "    \n",
    "    if not os.path.exists(mono_path):\n",
    "        print(f\"Processed version not found: {mono_path}\")\n",
    "        return\n",
    "    \n",
    "    # Create side-by-side plot\n",
    "    plt.figure(figsize=(20, 8))\n",
    "    \n",
    "    # Original melody\n",
    "    plt.subplot(121)\n",
    "    matrix = np.load(orig_path)\n",
    "    plt.imshow(matrix, cmap='RdPu', aspect='equal', \n",
    "              interpolation='nearest', origin='lower')\n",
    "    plt.title('Original Melody')\n",
    "    plt.xlabel('Time steps (16 per bar)')\n",
    "    plt.ylabel('MIDI pitch')\n",
    "    plt.grid(True, alpha=0.3)\n",
    "    for x in range(0, 128, 16):\n",
    "        plt.axvline(x=x, color='gray', linestyle='--', alpha=0.5)\n",
    "    \n",
    "    # Processed melody\n",
    "    plt.subplot(122)\n",
    "    matrix = np.load(mono_path)\n",
    "    plt.imshow(matrix, cmap='RdPu', aspect='equal', \n",
    "              interpolation='nearest', origin='lower')\n",
    "    plt.title('Processed Melody')\n",
    "    plt.xlabel('Time steps (16 per bar)')\n",
    "    plt.ylabel('MIDI pitch')\n",
    "    plt.grid(True, alpha=0.3)\n",
    "    for x in range(0, 128, 16):\n",
    "        plt.axvline(x=x, color='gray', linestyle='--', alpha=0.5)\n",
    "    \n",
    "    plt.tight_layout()\n",
    "    print(f\"Displaying: {random_file}\")\n",
    "    plt.show()"
   ]
  },
  {
   "cell_type": "code",
   "execution_count": 12,
   "metadata": {},
   "outputs": [
    {
     "name": "stdout",
     "output_type": "stream",
     "text": [
      "Displaying: Like A Rolling Stone.1_segment40_melody.npy\n"
     ]
    },
    {
     "data": {
      "image/png": "[encoded data removed]",
      "text/plain": [
       "<Figure size 2000x800 with 2 Axes>"
      ]
     },
     "metadata": {},
     "output_type": "display_data"
    }
   ],
   "source": [
    "compare_random_melody()"
   ]
  },
  {
   "cell_type": "markdown",
   "metadata": {},
   "source": [
    "Show a highly polyphonic melody before and after conversion"
   ]
  },
  {
   "cell_type": "code",
   "execution_count": 23,
   "metadata": {},
   "outputs": [
    {
     "data": {
      "image/png": "[encoded data removed]",
      "text/plain": [
       "<Figure size 1200x800 with 1 Axes>"
      ]
     },
     "metadata": {},
     "output_type": "display_data"
    }
   ],
   "source": [
    "visualize_melody_matrix('matrix_data/Like A Rolling Stone.1_segment38_melody.npy')"
   ]
  },
  {
   "cell_type": "code",
   "execution_count": 24,
   "metadata": {},
   "outputs": [
    {
     "data": {
      "image/png": "[encoded data removed]",
      "text/plain": [
       "<Figure size 1200x800 with 1 Axes>"
      ]
     },
     "metadata": {},
     "output_type": "display_data"
    }
   ],
   "source": [
    "visualize_melody_matrix('monophonic_matrices/Like A Rolling Stone.1_segment38_melody.npy')"
   ]
  },
  {
   "cell_type": "markdown",
   "metadata": {},
   "source": [
    "## Convert matrices to MIDI to check if they sound good"
   ]
  },
  {
   "cell_type": "code",
   "execution_count": 25,
   "metadata": {},
   "outputs": [],
   "source": [
    "def matrix_to_midi(\n",
    "    melody_matrix_file: str,\n",
    "    input_melody_dir: str = 'monophonic_matrices',\n",
    "    output_dir: str = 'reconstructed_midis',\n",
    "    chord_dir: str = 'matrix_data_only_chords',\n",
    "    tempo: int = 120\n",
    ") -> None:\n",
    "    \"\"\"Convert melody matrix and chord vectors back to MIDI file.\"\"\"\n",
    "    \n",
    "    os.makedirs(output_dir, exist_ok=True)\n",
    "    \n",
    "    def create_note(pitch, start, end, velocity=100):\n",
    "        \"\"\"Create a pretty_midi Note object.\"\"\"\n",
    "        note = pretty_midi.Note(\n",
    "            velocity=velocity,\n",
    "            pitch=pitch,\n",
    "            start=start,\n",
    "            end=end\n",
    "        )\n",
    "        return note\n",
    "    \n",
    "    def matrix_to_notes(matrix, ticks_per_step=0.125):\n",
    "        \"\"\"Convert matrix to list of MIDI notes.\"\"\"\n",
    "        notes = []\n",
    "        \n",
    "        # Find note starts and durations\n",
    "        for pitch in range(128):\n",
    "            note_on = False\n",
    "            start_time = 0\n",
    "            \n",
    "            for step in range(128):\n",
    "                current_time = step * ticks_per_step\n",
    "                \n",
    "                if matrix[pitch, step] == 1 and not note_on:\n",
    "                    # Note starts\n",
    "                    note_on = True\n",
    "                    start_time = current_time\n",
    "                elif (matrix[pitch, step] == 0 or step == 127) and note_on:\n",
    "                    # Note ends\n",
    "                    note_on = False\n",
    "                    end_time = current_time\n",
    "                    notes.append(create_note(pitch, start_time, end_time))\n",
    "        \n",
    "        return notes\n",
    "    \n",
    "    def vector_to_chord_notes(vector, bar, bar_duration):\n",
    "        \"\"\"Convert chord vector to MIDI notes.\"\"\"\n",
    "        notes = []\n",
    "        start_time = bar * bar_duration\n",
    "        end_time = start_time + bar_duration\n",
    "        \n",
    "        # Get root and quality\n",
    "        is_minor = bool(vector[12])\n",
    "        if is_minor:\n",
    "            minor_map = {0:9, 1:10, 2:11, 3:0, 4:1, 5:2, \n",
    "                        6:3, 7:4, 8:5, 9:6, 10:7, 11:8}  # Reverse map\n",
    "            root = minor_map[np.where(vector[:12] == 1)[0][0]]\n",
    "            intervals = [0, 3, 7]  # Minor triad\n",
    "        else:\n",
    "            root = np.where(vector[:12] == 1)[0][0]\n",
    "            intervals = [0, 4, 7]  # Major triad\n",
    "            \n",
    "        # Create chord notes\n",
    "        base_pitch = 48 + root  # Start at C3\n",
    "        for interval in intervals:\n",
    "            notes.append(create_note(\n",
    "                base_pitch + interval,\n",
    "                start_time,\n",
    "                end_time\n",
    "            ))\n",
    "            \n",
    "        return notes\n",
    "\n",
    "    try:\n",
    "        # Load matrices\n",
    "        melody_path = os.path.join(input_melody_dir, melody_matrix_file)\n",
    "        chord_path = os.path.join(chord_dir, melody_matrix_file.replace('melody', 'chords'))\n",
    "        \n",
    "        melody_matrix = np.load(melody_path)\n",
    "        chord_vectors = np.load(chord_path)\n",
    "        \n",
    "        # Create MIDI file\n",
    "        midi = pretty_midi.PrettyMIDI(initial_tempo=tempo)\n",
    "        \n",
    "        # Add melody track\n",
    "        melody_program = pretty_midi.instrument_name_to_program('Acoustic Grand Piano')\n",
    "        melody_track = pretty_midi.Instrument(program=melody_program)\n",
    "        melody_track.notes = matrix_to_notes(melody_matrix)\n",
    "        midi.instruments.append(melody_track)\n",
    "        \n",
    "        # Add chord track\n",
    "        chord_program = pretty_midi.instrument_name_to_program('Acoustic Grand Piano')\n",
    "        chord_track = pretty_midi.Instrument(program=chord_program)\n",
    "        bar_duration = 2.0  # 2 seconds per bar at 120 BPM\n",
    "        \n",
    "        for bar, vector in enumerate(chord_vectors):\n",
    "            chord_track.notes.extend(vector_to_chord_notes(vector, bar, bar_duration))\n",
    "        \n",
    "        midi.instruments.append(chord_track)\n",
    "        \n",
    "        # Save MIDI file\n",
    "        output_name = melody_matrix_file.replace('_melody.npy', '.mid')\n",
    "        output_path = os.path.join(output_dir, output_name)\n",
    "        midi.write(output_path)\n",
    "        \n",
    "        print(f\"MIDI file saved: {output_path}\")\n",
    "        \n",
    "    except Exception as e:\n",
    "        print(f\"Error processing {melody_matrix_file}: {str(e)}\")"
   ]
  },
  {
   "cell_type": "code",
   "execution_count": 26,
   "metadata": {},
   "outputs": [
    {
     "name": "stdout",
     "output_type": "stream",
     "text": [
      "MIDI file saved: reconstructed_midis\\Like A Rolling Stone.1_segment38.mid\n"
     ]
    }
   ],
   "source": [
    "matrix_to_midi(\"Like A Rolling Stone.1_segment38_melody.npy\")"
   ]
  },
  {
   "cell_type": "markdown",
   "metadata": {},
   "source": [
    "## Filter Segments with Sufficient Melody Notes\n",
    "\n",
    "Ensure melody duration exceeds 50% of the segment."
   ]
  },
  {
   "cell_type": "code",
   "execution_count": 27,
   "metadata": {},
   "outputs": [],
   "source": [
    "def collect_dense_melodies(\n",
    "    input_dir: str = 'monophonic_matrices',\n",
    "    output_pickle: str = 'dense_melodies.pickle',\n",
    "    density_threshold: float = 0.5  # At least 50% of timesteps have notes\n",
    ") -> dict:\n",
    "    \"\"\"Collect melodies that meet minimum density requirement.\"\"\"\n",
    "    \n",
    "    stats = {'total': 0, 'selected': 0}\n",
    "    dense_melodies = []\n",
    "    \n",
    "    # Get all melody files\n",
    "    melody_files = [f for f in os.listdir(input_dir) \n",
    "                   if f.endswith('_melody.npy')]\n",
    "    \n",
    "    for file in tqdm(melody_files, desc=\"Processing matrices\"):\n",
    "        try:\n",
    "            # Load matrix\n",
    "            matrix_path = os.path.join(input_dir, file)\n",
    "            matrix = np.load(matrix_path)\n",
    "            \n",
    "            # Calculate density\n",
    "            note_count = np.sum(matrix)\n",
    "            density = note_count / 128  # Divide by timesteps\n",
    "            \n",
    "            # Check if dense enough\n",
    "            if density >= density_threshold:\n",
    "                dense_melodies.append({\n",
    "                    'file': file,\n",
    "                    'matrix': matrix,\n",
    "                    'density': density\n",
    "                })\n",
    "                stats['selected'] += 1\n",
    "                \n",
    "            stats['total'] += 1\n",
    "            \n",
    "        except Exception as e:\n",
    "            print(f\"Error processing {file}: {str(e)}\")\n",
    "            continue\n",
    "    \n",
    "    # Save results\n",
    "    with open(output_pickle, 'wb') as f:\n",
    "        pickle.dump(dense_melodies, f)\n",
    "    \n",
    "    print(f\"\\nProcessing complete:\")\n",
    "    print(f\"Total matrices: {stats['total']}\")\n",
    "    print(f\"Selected matrices: {stats['selected']}\")\n",
    "    print(f\"Selection rate: {stats['selected']/stats['total']*100:.1f}%\")\n",
    "    print(f\"Results saved to: {output_pickle}\")\n",
    "    \n",
    "    return stats"
   ]
  },
  {
   "cell_type": "code",
   "execution_count": 28,
   "metadata": {},
   "outputs": [
    {
     "name": "stderr",
     "output_type": "stream",
     "text": [
      "Processing matrices: 100%|██████████| 1413/1413 [00:00<00:00, 3413.08it/s]\n"
     ]
    },
    {
     "name": "stdout",
     "output_type": "stream",
     "text": [
      "\n",
      "Processing complete:\n",
      "Total matrices: 1413\n",
      "Selected matrices: 1004\n",
      "Selection rate: 71.1%\n",
      "Results saved to: dense_melodies.pickle\n"
     ]
    }
   ],
   "source": [
    "stats = collect_dense_melodies()"
   ]
  },
  {
   "cell_type": "markdown",
   "metadata": {},
   "source": [
    "## Shift melodies in the range C4 - B5"
   ]
  },
  {
   "cell_type": "markdown",
   "metadata": {},
   "source": [
    "1. **Range Analysis**:\n",
    "   - Find lowest/highest notes in melody\n",
    "   - Skip if range > 24 semitones (too wide)\n",
    "2. **Pitch Shifting**:\n",
    "   - Calculate required shift to center melody in C4-B5\n",
    "   - Apply vertical shift to melody matrix\n",
    "   - Apply circular shift to chord roots\n",
    "3. **Output**: \n",
    "   - Save normalized melody matrices\n",
    "   - Save transposed chord vectors"
   ]
  },
  {
   "cell_type": "code",
   "execution_count": 29,
   "metadata": {},
   "outputs": [],
   "source": [
    "def normalize_pitch_range(\n",
    "    input_melody_dir: str = 'monophonic_matrices',\n",
    "    input_chord_dir: str = 'matrix_data_only_chords',\n",
    "    output_dir: str = 'normalized_matrices',\n",
    "    dense_melodies_pickle: str = 'dense_melodies.pickle',\n",
    "    min_pitch: int = 60,  # C4\n",
    "    max_pitch: int = 83   # B5\n",
    ") -> dict:\n",
    "    \"\"\"Normalize melodies to C4-B5 range and shift chords accordingly.\"\"\"\n",
    "    \n",
    "    os.makedirs(output_dir, exist_ok=True)\n",
    "    stats = {'processed': 0, 'normalized': 0, 'skipped_range': 0}\n",
    "    \n",
    "    # Load dense melodies list\n",
    "    with open(dense_melodies_pickle, 'rb') as f:\n",
    "        dense_melodies = pickle.load(f)\n",
    "    dense_files = set(item['file'] for item in dense_melodies)\n",
    "    \n",
    "    def get_melody_range(matrix):\n",
    "        \"\"\"Get lowest and highest pitches in melody.\"\"\"\n",
    "        active_pitches = []\n",
    "        for pitch in range(128):\n",
    "            if np.any(matrix[pitch]):\n",
    "                active_pitches.append(pitch)\n",
    "        if not active_pitches:\n",
    "            return None, None\n",
    "        return min(active_pitches), max(active_pitches)\n",
    "    \n",
    "    def shift_melody(matrix, shift):\n",
    "        \"\"\"Shift melody matrix up/down by given amount.\"\"\"\n",
    "        if shift > 0:\n",
    "            # Shift up\n",
    "            new_matrix = np.zeros_like(matrix)\n",
    "            new_matrix[shift:] = matrix[:-shift]\n",
    "            return new_matrix\n",
    "        elif shift < 0:\n",
    "            # Shift down\n",
    "            new_matrix = np.zeros_like(matrix)\n",
    "            new_matrix[:shift] = matrix[-shift:]\n",
    "            return new_matrix\n",
    "        return matrix\n",
    "    \n",
    "    def shift_chord_vector(vector, shift):\n",
    "        \"\"\"Shift chord root with circular shift, preserving minor flag.\"\"\"\n",
    "        new_vector = np.zeros_like(vector)\n",
    "        # Keep minor flag (last element) unchanged\n",
    "        new_vector[12] = vector[12]\n",
    "        \n",
    "        # Find position of 1 in first 12 elements\n",
    "        root = np.where(vector[:12] == 1)[0][0]\n",
    "        # Apply circular shift\n",
    "        new_root = (root + shift) % 12\n",
    "        new_vector[new_root] = 1\n",
    "        \n",
    "        return new_vector\n",
    "    \n",
    "    # Filter melody files to only include dense ones\n",
    "    melody_files = [f for f in os.listdir(input_melody_dir) \n",
    "                   if f.endswith('_melody.npy') and f in dense_files]\n",
    "    \n",
    "    for file in tqdm(melody_files, desc=\"Processing melodies\"):\n",
    "        try:\n",
    "            # Load melody matrix\n",
    "            melody_path = os.path.join(input_melody_dir, file)\n",
    "            melody_matrix = np.load(melody_path)\n",
    "            \n",
    "            # Get melody range\n",
    "            low_pitch, high_pitch = get_melody_range(melody_matrix)\n",
    "            if low_pitch is None:\n",
    "                continue\n",
    "                \n",
    "            # Check if range is too wide\n",
    "            if high_pitch - low_pitch > 24:\n",
    "                stats['skipped_range'] += 1\n",
    "                continue\n",
    "            \n",
    "            # Calculate required shift\n",
    "            target_center = (min_pitch + max_pitch) // 2\n",
    "            current_center = (low_pitch + high_pitch) // 2\n",
    "            shift = target_center - current_center\n",
    "            \n",
    "            # Apply shift to melody\n",
    "            shifted_melody = shift_melody(melody_matrix, shift)\n",
    "            \n",
    "            # Load and shift chord vectors\n",
    "            chord_path = os.path.join(input_chord_dir, \n",
    "                                    file.replace('melody', 'chords'))\n",
    "            chord_vectors = np.load(chord_path)\n",
    "            shifted_chords = np.array([shift_chord_vector(v, shift) \n",
    "                                     for v in chord_vectors])\n",
    "            \n",
    "            # Save normalized matrices\n",
    "            np.save(os.path.join(output_dir, file), shifted_melody)\n",
    "            np.save(os.path.join(output_dir, file.replace('melody', 'chords')), \n",
    "                   shifted_chords)\n",
    "            \n",
    "            stats['normalized'] += 1\n",
    "            \n",
    "        except Exception as e:\n",
    "            print(f\"Error processing {file}: {str(e)}\")\n",
    "            continue\n",
    "            \n",
    "        stats['processed'] += 1\n",
    "    \n",
    "    print(f\"\\nNormalization complete:\")\n",
    "    print(f\"Files processed: {stats['processed']}\")\n",
    "    print(f\"Successfully normalized: {stats['normalized']}\")\n",
    "    print(f\"Skipped (range too wide): {stats['skipped_range']}\")\n",
    "    \n",
    "    return stats"
   ]
  },
  {
   "cell_type": "code",
   "execution_count": 30,
   "metadata": {},
   "outputs": [
    {
     "name": "stderr",
     "output_type": "stream",
     "text": [
      "Processing melodies: 100%|██████████| 1004/1004 [00:04<00:00, 227.86it/s]"
     ]
    },
    {
     "name": "stdout",
     "output_type": "stream",
     "text": [
      "\n",
      "Normalization complete:\n",
      "Files processed: 987\n",
      "Successfully normalized: 987\n",
      "Skipped (range too wide): 17\n"
     ]
    },
    {
     "name": "stderr",
     "output_type": "stream",
     "text": [
      "\n"
     ]
    }
   ],
   "source": [
    "stats = normalize_pitch_range()"
   ]
  },
  {
   "cell_type": "markdown",
   "metadata": {},
   "source": [
    "Visualize random melody before and after normalization"
   ]
  },
  {
   "cell_type": "code",
   "execution_count": 13,
   "metadata": {},
   "outputs": [
    {
     "name": "stdout",
     "output_type": "stream",
     "text": [
      "Displaying: Mockingbird_segment1_melody.npy\n"
     ]
    },
    {
     "data": {
      "image/png": "[encoded data removed]",
      "text/plain": [
       "<Figure size 2000x800 with 2 Axes>"
      ]
     },
     "metadata": {},
     "output_type": "display_data"
    }
   ],
   "source": [
    "compare_random_melody('monophonic_matrices', 'normalized_matrices')"
   ]
  },
  {
   "cell_type": "markdown",
   "metadata": {},
   "source": [
    "## Remove pauses in melodies"
   ]
  },
  {
   "cell_type": "markdown",
   "metadata": {},
   "source": [
    "Eliminate silent gaps in melody lines by extending notes"
   ]
  },
  {
   "cell_type": "code",
   "execution_count": 36,
   "metadata": {},
   "outputs": [],
   "source": [
    "def remove_melody_pauses(\n",
    "    input_dir: str = 'normalized_matrices',\n",
    "    output_dir: str = 'no_pauses_matrices'\n",
    ") -> dict:\n",
    "    \"\"\"Remove pauses from melody matrices while keeping chords unchanged.\"\"\"\n",
    "    \n",
    "    os.makedirs(output_dir, exist_ok=True)\n",
    "    stats = {'processed': 0, 'modified': 0}\n",
    "    \n",
    "    def fill_melody_gaps(matrix):\n",
    "        \"\"\"Fill pauses in melody matrix by extending notes.\"\"\"\n",
    "        new_matrix = np.zeros_like(matrix)\n",
    "        \n",
    "        # Handle initial pause by extending first note backwards\n",
    "        first_note_step = None\n",
    "        first_note_pitch = None\n",
    "        for t in range(128):\n",
    "            active_notes = np.where(matrix[:, t] == 1)[0]\n",
    "            if len(active_notes) > 0:\n",
    "                first_note_step = t\n",
    "                first_note_pitch = active_notes[0]\n",
    "                break\n",
    "        \n",
    "        if first_note_step is not None and first_note_step > 0:\n",
    "            new_matrix[first_note_pitch, 0:first_note_step] = 1\n",
    "        \n",
    "        # Process each timestep\n",
    "        last_pitch = first_note_pitch\n",
    "        for t in range(128):\n",
    "            active_notes = np.where(matrix[:, t] == 1)[0]\n",
    "            if len(active_notes) > 0:\n",
    "                # Copy current notes\n",
    "                new_matrix[:, t] = matrix[:, t]\n",
    "                last_pitch = active_notes[0]\n",
    "            elif last_pitch is not None:\n",
    "                # Fill pause with last note\n",
    "                new_matrix[last_pitch, t] = 1\n",
    "        \n",
    "        return new_matrix\n",
    "    \n",
    "    # Get all melody files\n",
    "    melody_files = [f for f in os.listdir(input_dir) \n",
    "                   if f.endswith('_melody.npy')]\n",
    "    \n",
    "    for file in tqdm(melody_files, desc=\"Processing melodies\"):\n",
    "        try:\n",
    "            # Load melody matrix\n",
    "            melody_path = os.path.join(input_dir, file)\n",
    "            melody_matrix = np.load(melody_path)\n",
    "            \n",
    "            # Remove pauses\n",
    "            modified_melody = fill_melody_gaps(melody_matrix)\n",
    "            \n",
    "            # Load chord matrix (unchanged)\n",
    "            chord_file = file.replace('melody', 'chords')\n",
    "            chord_path = os.path.join(input_dir, chord_file)\n",
    "            chord_matrix = np.load(chord_path)\n",
    "            \n",
    "            # Save both matrices\n",
    "            np.save(os.path.join(output_dir, file), modified_melody)\n",
    "            np.save(os.path.join(output_dir, chord_file), chord_matrix)\n",
    "            \n",
    "            stats['modified'] += 1\n",
    "            \n",
    "        except Exception as e:\n",
    "            print(f\"Error processing {file}: {str(e)}\")\n",
    "            continue\n",
    "            \n",
    "        stats['processed'] += 1\n",
    "    \n",
    "    print(f\"\\nProcessing complete:\")\n",
    "    print(f\"Files processed: {stats['processed']}\")\n",
    "    print(f\"Successfully modified: {stats['modified']}\")\n",
    "    \n",
    "    return stats"
   ]
  },
  {
   "cell_type": "code",
   "execution_count": 37,
   "metadata": {},
   "outputs": [
    {
     "name": "stderr",
     "output_type": "stream",
     "text": [
      "Processing melodies: 100%|██████████| 987/987 [00:02<00:00, 380.00it/s]"
     ]
    },
    {
     "name": "stdout",
     "output_type": "stream",
     "text": [
      "\n",
      "Processing complete:\n",
      "Files processed: 987\n",
      "Successfully modified: 987\n"
     ]
    },
    {
     "name": "stderr",
     "output_type": "stream",
     "text": [
      "\n"
     ]
    }
   ],
   "source": [
    "stats = remove_melody_pauses()"
   ]
  },
  {
   "cell_type": "markdown",
   "metadata": {},
   "source": [
    "Compare original and modified melody with no pauses"
   ]
  },
  {
   "cell_type": "code",
   "execution_count": 17,
   "metadata": {},
   "outputs": [
    {
     "name": "stdout",
     "output_type": "stream",
     "text": [
      "Displaying: (Sitin' on) The Dock of the Bay.1_segment2_melody.npy\n"
     ]
    },
    {
     "data": {
      "image/png": "[encoded data removed]",
      "text/plain": [
       "<Figure size 2000x800 with 2 Axes>"
      ]
     },
     "metadata": {},
     "output_type": "display_data"
    }
   ],
   "source": [
    "compare_random_melody('normalized_matrices', 'no_pauses_matrices')"
   ]
  },
  {
   "cell_type": "markdown",
   "metadata": {},
   "source": [
    "### Add Explicit Silence Markers\n",
    "\n",
    "Add an extra row (129th) that explicitly marks silent timesteps, creating a 129x128 matrix format.\n",
    "\n",
    "   - Set row 129 to 1 where no notes play"
   ]
  },
  {
   "cell_type": "code",
   "execution_count": 3,
   "metadata": {},
   "outputs": [],
   "source": [
    "def add_silence_row(\n",
    "    input_dir: str = 'normalized_matrices',\n",
    "    output_dir: str = 'silence_matrices'\n",
    ") -> dict:\n",
    "    \"\"\"Add explicit silence row to melody matrices.\"\"\"\n",
    "    \n",
    "    os.makedirs(output_dir, exist_ok=True)\n",
    "    stats = {'processed': 0, 'modified': 0}\n",
    "    \n",
    "    def add_silence_marker(matrix):\n",
    "        \"\"\"Add row 129 marking silent timesteps.\"\"\"\n",
    "        # Create new matrix with extra row\n",
    "        new_matrix = np.zeros((129, 128))\n",
    "        # Copy original content\n",
    "        new_matrix[:128, :] = matrix\n",
    "        \n",
    "        # Mark silent timesteps in last row\n",
    "        for t in range(128):\n",
    "            if np.sum(matrix[:, t]) == 0:\n",
    "                new_matrix[128, t] = 1\n",
    "                \n",
    "        return new_matrix\n",
    "    \n",
    "    # Get all melody files\n",
    "    melody_files = [f for f in os.listdir(input_dir) \n",
    "                   if f.endswith('_melody.npy')]\n",
    "    \n",
    "    for file in tqdm(melody_files, desc=\"Processing melodies\"):\n",
    "        try:\n",
    "            # Load melody matrix\n",
    "            melody_path = os.path.join(input_dir, file)\n",
    "            melody_matrix = np.load(melody_path)\n",
    "            \n",
    "            # Add silence row\n",
    "            modified_melody = add_silence_marker(melody_matrix)\n",
    "            \n",
    "            # Load chord matrix (unchanged)\n",
    "            chord_file = file.replace('melody', 'chords')\n",
    "            chord_path = os.path.join(input_dir, chord_file)\n",
    "            chord_matrix = np.load(chord_path)\n",
    "            \n",
    "            # Save both matrices\n",
    "            np.save(os.path.join(output_dir, file), modified_melody)\n",
    "            np.save(os.path.join(output_dir, chord_file), chord_matrix)\n",
    "            \n",
    "            stats['modified'] += 1\n",
    "            \n",
    "        except Exception as e:\n",
    "            print(f\"Error processing {file}: {str(e)}\")\n",
    "            continue\n",
    "            \n",
    "        stats['processed'] += 1\n",
    "    \n",
    "    print(f\"\\nProcessing complete:\")\n",
    "    print(f\"Files processed: {stats['processed']}\")\n",
    "    print(f\"Successfully modified: {stats['modified']}\")\n",
    "    \n",
    "    return stats"
   ]
  },
  {
   "cell_type": "code",
   "execution_count": 4,
   "metadata": {},
   "outputs": [
    {
     "name": "stderr",
     "output_type": "stream",
     "text": [
      "Processing melodies: 100%|██████████| 987/987 [00:04<00:00, 208.99it/s]"
     ]
    },
    {
     "name": "stdout",
     "output_type": "stream",
     "text": [
      "\n",
      "Processing complete:\n",
      "Files processed: 987\n",
      "Successfully modified: 987\n"
     ]
    },
    {
     "name": "stderr",
     "output_type": "stream",
     "text": [
      "\n"
     ]
    }
   ],
   "source": [
    "stats = add_silence_row()"
   ]
  },
  {
   "cell_type": "code",
   "execution_count": 5,
   "metadata": {},
   "outputs": [
    {
     "name": "stdout",
     "output_type": "stream",
     "text": [
      "Displaying: Hotel California.4_segment4_melody.npy\n"
     ]
    },
    {
     "data": {
      "image/png": "[encoded data removed]",
      "text/plain": [
       "<Figure size 2000x800 with 2 Axes>"
      ]
     },
     "metadata": {},
     "output_type": "display_data"
    }
   ],
   "source": [
    "compare_random_melody('normalized_matrices', 'silence_matrices')"
   ]
  }
 ],
 "metadata": {
  "kernelspec": {
   "display_name": "base",
   "language": "python",
   "name": "python3"
  },
  "language_info": {
   "codemirror_mode": {
    "name": "ipython",
    "version": 3
   },
   "file_extension": ".py",
   "mimetype": "text/x-python",
   "name": "python",
   "nbconvert_exporter": "python",
   "pygments_lexer": "ipython3",
   "version": "3.9.19"
  }
 },
 "nbformat": 4,
 "nbformat_minor": 2
}
